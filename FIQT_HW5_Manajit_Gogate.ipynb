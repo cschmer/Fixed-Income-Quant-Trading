{
 "cells": [
  {
   "cell_type": "code",
   "execution_count": 1,
   "metadata": {},
   "outputs": [
    {
     "name": "stderr",
     "output_type": "stream",
     "text": [
      "C:\\Users\\manaj\\Anaconda3\\lib\\site-packages\\statsmodels\\compat\\pandas.py:56: FutureWarning: The pandas.core.datetools module is deprecated and will be removed in a future version. Please use the pandas.tseries module instead.\n",
      "  from pandas.core import datetools\n"
     ]
    }
   ],
   "source": [
    "import numpy as np\n",
    "import pandas as pd\n",
    "import matplotlib.pyplot as plt\n",
    "from matplotlib import style\n",
    "style.use('default')\n",
    "import quandl\n",
    "from sklearn import linear_model as lm\n",
    "from sklearn.metrics import mean_squared_error\n",
    "import math\n",
    "import statsmodels.tsa.arima_model as ar"
   ]
  },
  {
   "cell_type": "markdown",
   "metadata": {},
   "source": [
    "#### Import CMT data from Qunadl"
   ]
  },
  {
   "cell_type": "code",
   "execution_count": 2,
   "metadata": {},
   "outputs": [
    {
     "data": {
      "text/html": [
       "<div>\n",
       "<style>\n",
       "    .dataframe thead tr:only-child th {\n",
       "        text-align: right;\n",
       "    }\n",
       "\n",
       "    .dataframe thead th {\n",
       "        text-align: left;\n",
       "    }\n",
       "\n",
       "    .dataframe tbody tr th {\n",
       "        vertical-align: top;\n",
       "    }\n",
       "</style>\n",
       "<table border=\"1\" class=\"dataframe\">\n",
       "  <thead>\n",
       "    <tr style=\"text-align: right;\">\n",
       "      <th></th>\n",
       "      <th>3 MO</th>\n",
       "      <th>6 MO</th>\n",
       "      <th>1 YR</th>\n",
       "      <th>2 YR</th>\n",
       "      <th>3 YR</th>\n",
       "      <th>5 YR</th>\n",
       "      <th>7 YR</th>\n",
       "      <th>10 YR</th>\n",
       "      <th>20 YR</th>\n",
       "      <th>30 YR</th>\n",
       "    </tr>\n",
       "    <tr>\n",
       "      <th>Date</th>\n",
       "      <th></th>\n",
       "      <th></th>\n",
       "      <th></th>\n",
       "      <th></th>\n",
       "      <th></th>\n",
       "      <th></th>\n",
       "      <th></th>\n",
       "      <th></th>\n",
       "      <th></th>\n",
       "      <th></th>\n",
       "    </tr>\n",
       "  </thead>\n",
       "  <tbody>\n",
       "    <tr>\n",
       "      <th>2012-01-03</th>\n",
       "      <td>0.02</td>\n",
       "      <td>0.06</td>\n",
       "      <td>0.12</td>\n",
       "      <td>0.27</td>\n",
       "      <td>0.40</td>\n",
       "      <td>0.89</td>\n",
       "      <td>1.41</td>\n",
       "      <td>1.97</td>\n",
       "      <td>2.67</td>\n",
       "      <td>2.98</td>\n",
       "    </tr>\n",
       "    <tr>\n",
       "      <th>2012-01-04</th>\n",
       "      <td>0.02</td>\n",
       "      <td>0.06</td>\n",
       "      <td>0.12</td>\n",
       "      <td>0.25</td>\n",
       "      <td>0.40</td>\n",
       "      <td>0.89</td>\n",
       "      <td>1.43</td>\n",
       "      <td>2.00</td>\n",
       "      <td>2.71</td>\n",
       "      <td>3.03</td>\n",
       "    </tr>\n",
       "    <tr>\n",
       "      <th>2012-01-05</th>\n",
       "      <td>0.02</td>\n",
       "      <td>0.07</td>\n",
       "      <td>0.11</td>\n",
       "      <td>0.27</td>\n",
       "      <td>0.40</td>\n",
       "      <td>0.88</td>\n",
       "      <td>1.43</td>\n",
       "      <td>2.02</td>\n",
       "      <td>2.74</td>\n",
       "      <td>3.06</td>\n",
       "    </tr>\n",
       "    <tr>\n",
       "      <th>2012-01-06</th>\n",
       "      <td>0.02</td>\n",
       "      <td>0.05</td>\n",
       "      <td>0.12</td>\n",
       "      <td>0.25</td>\n",
       "      <td>0.40</td>\n",
       "      <td>0.86</td>\n",
       "      <td>1.40</td>\n",
       "      <td>1.98</td>\n",
       "      <td>2.70</td>\n",
       "      <td>3.02</td>\n",
       "    </tr>\n",
       "    <tr>\n",
       "      <th>2012-01-09</th>\n",
       "      <td>0.01</td>\n",
       "      <td>0.05</td>\n",
       "      <td>0.11</td>\n",
       "      <td>0.26</td>\n",
       "      <td>0.38</td>\n",
       "      <td>0.85</td>\n",
       "      <td>1.39</td>\n",
       "      <td>1.98</td>\n",
       "      <td>2.70</td>\n",
       "      <td>3.02</td>\n",
       "    </tr>\n",
       "  </tbody>\n",
       "</table>\n",
       "</div>"
      ],
      "text/plain": [
       "            3 MO  6 MO  1 YR  2 YR  3 YR  5 YR  7 YR  10 YR  20 YR  30 YR\n",
       "Date                                                                     \n",
       "2012-01-03  0.02  0.06  0.12  0.27  0.40  0.89  1.41   1.97   2.67   2.98\n",
       "2012-01-04  0.02  0.06  0.12  0.25  0.40  0.89  1.43   2.00   2.71   3.03\n",
       "2012-01-05  0.02  0.07  0.11  0.27  0.40  0.88  1.43   2.02   2.74   3.06\n",
       "2012-01-06  0.02  0.05  0.12  0.25  0.40  0.86  1.40   1.98   2.70   3.02\n",
       "2012-01-09  0.01  0.05  0.11  0.26  0.38  0.85  1.39   1.98   2.70   3.02"
      ]
     },
     "execution_count": 2,
     "metadata": {},
     "output_type": "execute_result"
    }
   ],
   "source": [
    "data = quandl.get(\"USTREASURY/YIELD\", authtoken=\"\")\n",
    "data = data.drop('1 MO', 1)\n",
    "# For Analysis period the 1 month CMT rates are often zero so drop 1 month Data\n",
    "\n",
    "df = data.loc['2012-1-2':'2015-12-31']\n",
    "df.head()"
   ]
  },
  {
   "cell_type": "markdown",
   "metadata": {},
   "source": [
    "##### For this assignment I drop 1 month data as many of the data points are zero or near zero "
   ]
  },
  {
   "cell_type": "code",
   "execution_count": 3,
   "metadata": {
    "collapsed": true
   },
   "outputs": [],
   "source": [
    "# Array containing the list of maturities \n",
    "maturity = np.array([ 3/12, 6/12, 1.0, 2.0, 3.0, 5.0, 7.0, 10.0, 20.0, 30.0])"
   ]
  },
  {
   "cell_type": "markdown",
   "metadata": {},
   "source": [
    "1. Step 1: Assume a value of $ \\lambda $, and fit $ \\beta_0$(t); $ \\beta_1$(t); $ \\beta_2$(t) to a set of yields observed on day t. (repeat for all days in the dataset)"
   ]
  },
  {
   "cell_type": "markdown",
   "metadata": {},
   "source": [
    "#### Function to calculate $ \\beta_0(t), \\beta_1(t), and \\beta_2(t)$ RMSE each day and Avg. R - squared over all the days in data frame for selected value of $\\lambda$"
   ]
  },
  {
   "cell_type": "code",
   "execution_count": 4,
   "metadata": {
    "collapsed": true
   },
   "outputs": [],
   "source": [
    "def fit_NS_Parameters(l,df, maturity):\n",
    "    \n",
    "# Input:\n",
    "#     Function Takes in \n",
    "#     l: lambda, \n",
    "#     df: CMT rates, and \n",
    "#     maturity: maturities of CMT rates \n",
    "# Output:\n",
    "#     Returns in list form following:  \n",
    "#     Avg R-squared over the period of analysis =Avgr2  \n",
    "#     NS parameters:\n",
    "#         beta_0 =regr_b0\n",
    "#         beta_1 = regr_b1\n",
    "#         beta_2 = regr_b2  \n",
    "#     RMSE on Each day = rmse\n",
    "#     Avg RMSE over the period of analysis = Avgrmse\n",
    " \n",
    "    \n",
    "    #calculating NS factor loadings for lambda and different maturity\n",
    "    a2 = ((1-np.exp(-l*maturity))/(l*maturity))\n",
    "    a3 = ((1-np.exp(-l*maturity))/(l*maturity) -np.exp(-l*maturity))\n",
    "\n",
    "    #Creating dataframe for regression analysis\n",
    "    a2a3 = np.array((a2,a3)).T\n",
    "    X= pd.DataFrame(a2a3)\n",
    "\n",
    "    #regression results for different days\n",
    "    reg = lm.LinearRegression()\n",
    "    regr_b0=[]\n",
    "    #list of beta_0\n",
    "    regr_b1 = []\n",
    "    # list of beta_1\n",
    "    regr_b2 = []\n",
    "    # list of beta_2\n",
    "    r2 = []\n",
    "    # list of R-squared for model each day regression\n",
    "    rmse = []\n",
    "    # list of root mean squared errors each day\n",
    "    \n",
    "    #for loop to regress CMT data each day\n",
    "    for date in df.index:\n",
    "        \n",
    "        y = df.loc[date]\n",
    "        # y: Actual yeild for different maturities\n",
    "        \n",
    "        reg.fit(X=X,y=y)\n",
    "        regr_b0.append(reg.intercept_)\n",
    "        regr_b1.append(reg.coef_[0])\n",
    "        regr_b2.append(reg.coef_[1])\n",
    "        \n",
    "        #Calculation of R-squared\n",
    "        r2.append(reg.score(X,y))\n",
    "        Avgr2 = np.mean(r2)\n",
    "        \n",
    "        # y_predict: yeild predicted by NS model regression\n",
    "        y_predict = reg.predict(X)     \n",
    "        \n",
    "        #calculation of RMSE\n",
    "        regression_model_mse = mean_squared_error(y,y_predict)\n",
    "        mse = math.sqrt(regression_model_mse)\n",
    "        rmse.append(mse)\n",
    "        Avgrmse = np.mean(rmse)\n",
    "         \n",
    "         \n",
    "    return Avgr2, regr_b0, regr_b1, regr_b2, rmse, Avgrmse"
   ]
  },
  {
   "cell_type": "markdown",
   "metadata": {},
   "source": [
    "#### Function that plots yeild curve predicted by NS model"
   ]
  },
  {
   "cell_type": "code",
   "execution_count": 5,
   "metadata": {
    "collapsed": true
   },
   "outputs": [],
   "source": [
    "def ns_pltcurve(date, ns_factors, l, maturity, original_df, title = 'NS Model'):\n",
    "\n",
    "# Input:\n",
    "#     Function Takes in \n",
    "#     date: date to plot yeild curve, \n",
    "#     ns_factors: b0,b1,b2, \n",
    "#     lamda: lambda value to be used, and \n",
    "#     maturity: maturities of CMT rates \n",
    "#     original_df : original rates dataframe\n",
    "#     with provision to edit title of graph\n",
    "# Output:\n",
    "#     Plot of yeild curve on specified day and \n",
    "#     plot of actual data on same graph\n",
    "#     curve_: values of the yeilds on perticular maturity\n",
    "\n",
    "    \n",
    "    regr_result = ns_factors\n",
    "    l = l\n",
    "    maturity = maturity\n",
    "    \n",
    "    a2 = ((1-np.exp(-l*maturity))/(l*maturity))\n",
    "    a3 = ((1-np.exp(-l*maturity))/(l*maturity) -np.exp(-l*maturity))\n",
    "    a2a3 = np.array((a2,a3))\n",
    "    \n",
    "    #Calculation of predicted values\n",
    "    cur = (regr_result[['b1','b2']].loc[date].reshape(2,1) * a2a3).T\n",
    "    curve = np.sum(cur, axis=1)\n",
    "    curve_ = curve + regr_result[['b0']].loc[date].values[0]\n",
    "    \n",
    "    #plot yeild curve\n",
    "    plt.plot(maturity,curve_, label = title)\n",
    "    plt.plot(maturity, original_df.loc[date], 'ro',label= 'Actual Data')\n",
    "    plt.legend(loc = 4)\n",
    "    plt.title(str(date)+' '+title+' Vs Actual Data')\n",
    "    #plt.show()\n",
    "    \n",
    "    return curve_\n",
    "\n",
    "def ns_curve(date, ns_factors, l, maturity, original_df, title = 'NS Model'):\n",
    "\n",
    "# Input:\n",
    "#     Function Takes in \n",
    "#     date: date to plot yeild curve, \n",
    "#     ns_factors: b0,b1,b2, \n",
    "#     lamda: lambda value to be used, and \n",
    "#     maturity: maturities of CMT rates \n",
    "#     original_df : original rates dataframe\n",
    "#     with provision to edit title of graph\n",
    "# Output:\n",
    "#     Plot of yeild curve on specified day and \n",
    "#     plot of actual data on same graph\n",
    "#     curve_: values of the yeilds on perticular maturity\n",
    "\n",
    "    \n",
    "    regr_result = ns_factors\n",
    "    l = l\n",
    "    maturity = maturity\n",
    "    \n",
    "    a2 = ((1-np.exp(-l*maturity))/(l*maturity))\n",
    "    a3 = ((1-np.exp(-l*maturity))/(l*maturity) -np.exp(-l*maturity))\n",
    "    a2a3 = np.array((a2,a3))\n",
    "    \n",
    "    #Calculation of predicted values\n",
    "    cur = (regr_result[['b1','b2']].loc[date].reshape(2,1) * a2a3).T\n",
    "    curve = np.sum(cur, axis=1)\n",
    "    curve_ = curve + regr_result[['b0']].loc[date].values[0]\n",
    "    return curve_\n",
    "    "
   ]
  },
  {
   "cell_type": "markdown",
   "metadata": {},
   "source": [
    "### Problem 1. Step 1: Assume a value of  $\\lambda$, and $ \\beta_0(t), \\beta_1(t), and \\beta_2(t)$ to a set of yields observed on day t (repeat for all days in the dataset)"
   ]
  },
  {
   "cell_type": "code",
   "execution_count": 6,
   "metadata": {},
   "outputs": [
    {
     "name": "stderr",
     "output_type": "stream",
     "text": [
      "C:\\Users\\manaj\\Anaconda3\\lib\\site-packages\\ipykernel_launcher.py:26: FutureWarning: reshape is deprecated and will raise in a subsequent release. Please use .values.reshape(...) instead\n"
     ]
    },
    {
     "data": {
      "image/png": "[encoded data removed]",
      "text/plain": [
       "<matplotlib.figure.Figure at 0x1a513b63cc0>"
      ]
     },
     "metadata": {},
     "output_type": "display_data"
    }
   ],
   "source": [
    "regr = fit_NS_Parameters(0.0609, df, maturity)\n",
    "regr_result = pd.DataFrame(columns=['b0','b1','b2','Date','RMSE'])\n",
    "regr_result['Date'] = df.index\n",
    "regr_result.set_index('Date', inplace=True)\n",
    "regr_result['b0'] = regr[1]\n",
    "regr_result['b1'] = regr[2]\n",
    "regr_result['b2'] = regr[3]\n",
    "regr_result['RMSE'] = regr[4]\n",
    "\n",
    "ns_pltcurve('2012-01-03', regr_result, 0.0609, maturity,df)\n",
    "plt.show()"
   ]
  },
  {
   "cell_type": "code",
   "execution_count": 7,
   "metadata": {
    "collapsed": true
   },
   "outputs": [],
   "source": [
    "def list_ele_idx(li):\n",
    "    # funtion that returns value index pairs in list\n",
    "    return [(y,x) for x,y in enumerate(li)]"
   ]
  },
  {
   "cell_type": "markdown",
   "metadata": {},
   "source": [
    "#### Function that returns optimal $\\lambda$ and $ \\beta_0(t), \\beta_1(t), and \\beta_2(t) $ values corresponding to optimal $\\lambda$"
   ]
  },
  {
   "cell_type": "code",
   "execution_count": 8,
   "metadata": {
    "collapsed": true
   },
   "outputs": [],
   "source": [
    "def DNS_opt_lambda(lams, df, maturity):\n",
    "    \n",
    "# Input:\n",
    "#     Function Takes in \n",
    "#     lams: list of lambdas to find optimal value among list, \n",
    "#     df: CMT rates, and \n",
    "#     maturity: maturities of CMT rates \n",
    "# Output:\n",
    "#     Returns in list form following:\n",
    "#     Optimal Lambda = l\n",
    "#     NS parameters & RMSE each day corresponding to optimal lambda in dataframe = regr_result     \n",
    "\n",
    "    \n",
    "    maturity = maturity\n",
    "    \n",
    "    regr_b0 = []\n",
    "    regr_b1 = []\n",
    "    regr_b2 = []\n",
    "    rmse = []\n",
    "    Avgrmse = []\n",
    "    \n",
    "    # for loop to find optimal lambda\n",
    "    for lam in lams:\n",
    "        para = fit_NS_Parameters(lam,df,maturity)\n",
    "        regr_b0.append(para[1])\n",
    "        regr_b1.append(para[2])\n",
    "        regr_b2.append(para[3])\n",
    "        rmse.append(para[4])\n",
    "        Avgrmse.append(para[5]) \n",
    "        \n",
    "    # sort result in order of minimum RSME\n",
    "    minrmse = list_ele_idx(Avgrmse)\n",
    "    minrmse.sort()\n",
    "    pos = minrmse[0][1]\n",
    "    l = lams[pos]\n",
    "    \n",
    "    #Regression Results for optimal lambda\n",
    "    regr_result = pd.DataFrame(columns=['b0','b1','b2','Date','RMSE'])\n",
    "    regr_result['Date'] = df.index\n",
    "    regr_result.set_index('Date', inplace=True)\n",
    "    regr_result['b0'] = regr_b0[pos]\n",
    "    regr_result['b1'] = regr_b1[pos]\n",
    "    regr_result['b2'] = regr_b2[pos]\n",
    "    regr_result['RMSE'] = rmse[pos]\n",
    "    \n",
    "    return l, regr_result"
   ]
  },
  {
   "cell_type": "markdown",
   "metadata": {},
   "source": [
    "### Problem 1. Step 2: Find $\\lambda$ that bests fits the whole dataset (Step1 needs to be repeated on each iteration; as you search for optimal $\\lambda$). You can use an optimization package, or write your own code."
   ]
  },
  {
   "cell_type": "code",
   "execution_count": 9,
   "metadata": {
    "collapsed": true
   },
   "outputs": [],
   "source": [
    "# Running DNS to find optimal lambda from sample of 95 values of lambda\n",
    "lams = np.arange(0.05,0.8,0.01)\n",
    "optimal_result = DNS_opt_lambda(lams,df,maturity)\n",
    "# Estimated Running time about 1.3 min"
   ]
  },
  {
   "cell_type": "markdown",
   "metadata": {},
   "source": [
    "#### Optimal $\\lambda$"
   ]
  },
  {
   "cell_type": "code",
   "execution_count": 10,
   "metadata": {},
   "outputs": [
    {
     "data": {
      "text/plain": [
       "0.45000000000000007"
      ]
     },
     "execution_count": 10,
     "metadata": {},
     "output_type": "execute_result"
    }
   ],
   "source": [
    "optimal_lambda = optimal_result[0]\n",
    "optimal_lambda"
   ]
  },
  {
   "cell_type": "markdown",
   "metadata": {},
   "source": [
    "#### Optimal NS Parameters"
   ]
  },
  {
   "cell_type": "code",
   "execution_count": 11,
   "metadata": {},
   "outputs": [
    {
     "data": {
      "text/html": [
       "<div>\n",
       "<style>\n",
       "    .dataframe thead tr:only-child th {\n",
       "        text-align: right;\n",
       "    }\n",
       "\n",
       "    .dataframe thead th {\n",
       "        text-align: left;\n",
       "    }\n",
       "\n",
       "    .dataframe tbody tr th {\n",
       "        vertical-align: top;\n",
       "    }\n",
       "</style>\n",
       "<table border=\"1\" class=\"dataframe\">\n",
       "  <thead>\n",
       "    <tr style=\"text-align: right;\">\n",
       "      <th></th>\n",
       "      <th>b0</th>\n",
       "      <th>b1</th>\n",
       "      <th>b2</th>\n",
       "      <th>RMSE</th>\n",
       "    </tr>\n",
       "    <tr>\n",
       "      <th>Date</th>\n",
       "      <th></th>\n",
       "      <th></th>\n",
       "      <th></th>\n",
       "      <th></th>\n",
       "    </tr>\n",
       "  </thead>\n",
       "  <tbody>\n",
       "    <tr>\n",
       "      <th>2012-01-03</th>\n",
       "      <td>3.538519</td>\n",
       "      <td>-3.440374</td>\n",
       "      <td>-4.168066</td>\n",
       "      <td>0.041787</td>\n",
       "    </tr>\n",
       "    <tr>\n",
       "      <th>2012-01-04</th>\n",
       "      <td>3.603159</td>\n",
       "      <td>-3.501149</td>\n",
       "      <td>-4.292595</td>\n",
       "      <td>0.042264</td>\n",
       "    </tr>\n",
       "    <tr>\n",
       "      <th>2012-01-05</th>\n",
       "      <td>3.641773</td>\n",
       "      <td>-3.530930</td>\n",
       "      <td>-4.374767</td>\n",
       "      <td>0.046757</td>\n",
       "    </tr>\n",
       "    <tr>\n",
       "      <th>2012-01-06</th>\n",
       "      <td>3.590367</td>\n",
       "      <td>-3.483252</td>\n",
       "      <td>-4.331835</td>\n",
       "      <td>0.044559</td>\n",
       "    </tr>\n",
       "    <tr>\n",
       "      <th>2012-01-09</th>\n",
       "      <td>3.593300</td>\n",
       "      <td>-3.488854</td>\n",
       "      <td>-4.360374</td>\n",
       "      <td>0.048847</td>\n",
       "    </tr>\n",
       "  </tbody>\n",
       "</table>\n",
       "</div>"
      ],
      "text/plain": [
       "                  b0        b1        b2      RMSE\n",
       "Date                                              \n",
       "2012-01-03  3.538519 -3.440374 -4.168066  0.041787\n",
       "2012-01-04  3.603159 -3.501149 -4.292595  0.042264\n",
       "2012-01-05  3.641773 -3.530930 -4.374767  0.046757\n",
       "2012-01-06  3.590367 -3.483252 -4.331835  0.044559\n",
       "2012-01-09  3.593300 -3.488854 -4.360374  0.048847"
      ]
     },
     "execution_count": 11,
     "metadata": {},
     "output_type": "execute_result"
    }
   ],
   "source": [
    "ns_parameters = optimal_result[1]\n",
    "ns_parameters.head()"
   ]
  },
  {
   "cell_type": "markdown",
   "metadata": {},
   "source": [
    "#### Yeild Curve using Optimal Parameters"
   ]
  },
  {
   "cell_type": "code",
   "execution_count": 12,
   "metadata": {},
   "outputs": [
    {
     "name": "stderr",
     "output_type": "stream",
     "text": [
      "C:\\Users\\manaj\\Anaconda3\\lib\\site-packages\\ipykernel_launcher.py:26: FutureWarning: reshape is deprecated and will raise in a subsequent release. Please use .values.reshape(...) instead\n"
     ]
    },
    {
     "data": {
      "image/png": "[encoded data removed]",
      "text/plain": [
       "<matplotlib.figure.Figure at 0x1a513f57518>"
      ]
     },
     "metadata": {},
     "output_type": "display_data"
    }
   ],
   "source": [
    "ns_pltcurve('2012-01-03', ns_parameters, optimal_lambda, maturity,df)\n",
    "plt.show()"
   ]
  },
  {
   "cell_type": "markdown",
   "metadata": {},
   "source": [
    "### Problem 2. Step 1: Compute RMSE for each day in the sample and pick 5 days with largest RMSE"
   ]
  },
  {
   "cell_type": "code",
   "execution_count": 13,
   "metadata": {},
   "outputs": [
    {
     "data": {
      "text/html": [
       "<div>\n",
       "<style>\n",
       "    .dataframe thead tr:only-child th {\n",
       "        text-align: right;\n",
       "    }\n",
       "\n",
       "    .dataframe thead th {\n",
       "        text-align: left;\n",
       "    }\n",
       "\n",
       "    .dataframe tbody tr th {\n",
       "        vertical-align: top;\n",
       "    }\n",
       "</style>\n",
       "<table border=\"1\" class=\"dataframe\">\n",
       "  <thead>\n",
       "    <tr style=\"text-align: right;\">\n",
       "      <th></th>\n",
       "      <th>b0</th>\n",
       "      <th>b1</th>\n",
       "      <th>b2</th>\n",
       "      <th>RMSE</th>\n",
       "    </tr>\n",
       "    <tr>\n",
       "      <th>Date</th>\n",
       "      <th></th>\n",
       "      <th></th>\n",
       "      <th></th>\n",
       "      <th></th>\n",
       "    </tr>\n",
       "  </thead>\n",
       "  <tbody>\n",
       "    <tr>\n",
       "      <th>2013-12-31</th>\n",
       "      <td>4.755711</td>\n",
       "      <td>-4.840431</td>\n",
       "      <td>-3.966636</td>\n",
       "      <td>0.134576</td>\n",
       "    </tr>\n",
       "    <tr>\n",
       "      <th>2013-12-24</th>\n",
       "      <td>4.670574</td>\n",
       "      <td>-4.761211</td>\n",
       "      <td>-3.818038</td>\n",
       "      <td>0.129626</td>\n",
       "    </tr>\n",
       "    <tr>\n",
       "      <th>2013-12-27</th>\n",
       "      <td>4.722743</td>\n",
       "      <td>-4.814582</td>\n",
       "      <td>-3.893853</td>\n",
       "      <td>0.129072</td>\n",
       "    </tr>\n",
       "    <tr>\n",
       "      <th>2014-01-02</th>\n",
       "      <td>4.705474</td>\n",
       "      <td>-4.785896</td>\n",
       "      <td>-3.954553</td>\n",
       "      <td>0.128512</td>\n",
       "    </tr>\n",
       "    <tr>\n",
       "      <th>2013-12-30</th>\n",
       "      <td>4.679239</td>\n",
       "      <td>-4.756223</td>\n",
       "      <td>-3.918479</td>\n",
       "      <td>0.127264</td>\n",
       "    </tr>\n",
       "  </tbody>\n",
       "</table>\n",
       "</div>"
      ],
      "text/plain": [
       "                  b0        b1        b2      RMSE\n",
       "Date                                              \n",
       "2013-12-31  4.755711 -4.840431 -3.966636  0.134576\n",
       "2013-12-24  4.670574 -4.761211 -3.818038  0.129626\n",
       "2013-12-27  4.722743 -4.814582 -3.893853  0.129072\n",
       "2014-01-02  4.705474 -4.785896 -3.954553  0.128512\n",
       "2013-12-30  4.679239 -4.756223 -3.918479  0.127264"
      ]
     },
     "execution_count": 13,
     "metadata": {},
     "output_type": "execute_result"
    }
   ],
   "source": [
    "RMSE_High2low = ns_parameters.sort_values('RMSE', ascending=False)\n",
    "RMSE_High2low_Top5 = RMSE_High2low.head()\n",
    "RMSE_High2low_Top5"
   ]
  },
  {
   "cell_type": "markdown",
   "metadata": {},
   "source": [
    "#### Plots of 5 Days with Highest RMSE"
   ]
  },
  {
   "cell_type": "code",
   "execution_count": 14,
   "metadata": {
    "collapsed": true,
    "scrolled": false
   },
   "outputs": [],
   "source": [
    "# for i in range(len(RMSE_High2low_Top5.index)):\n",
    "#     date= RMSE_High2low_Top5.index[i].date()\n",
    "#     ns_pltcurve(date, ns_parameters, optimal_lambda, maturity, df)\n",
    "#     plt.show()"
   ]
  },
  {
   "cell_type": "markdown",
   "metadata": {},
   "source": [
    "#### Function that calculates AR1 parameters and half-life of betas"
   ]
  },
  {
   "cell_type": "code",
   "execution_count": 15,
   "metadata": {
    "collapsed": true
   },
   "outputs": [],
   "source": [
    "def AR1_hf_fc_nsfactors(date, df_nsparameters, past_days, forcast_days):\n",
    "    \n",
    "# Input:\n",
    "#     Function Takes in \n",
    "#     date: on which AR1 model ends\n",
    "#     df_nsparameters: data frame containing betas corresponding to optimal lambda\n",
    "#     past_days: number of days upto the date to be consider for analysis\n",
    "#     forcast_days: number of forcasts to be generated  \n",
    "# Output:\n",
    "#     Returns in list form following:\n",
    "#     half-life of the beats selected in sample = halflife\n",
    "#     predicted values of beta based on fited AR1 model = predicted_betas\n",
    "    \n",
    "    #find index of the input date in dataframe\n",
    "    ind = np.where(df_nsparameters.index==date)\n",
    "    pos = ind[0][0]\n",
    "    \n",
    "    hf = []\n",
    "    forcast = []\n",
    "    cons_arparams = []\n",
    "    \n",
    "    #for loop to calculate AR1 model parameters and half-life\n",
    "    for ns_factor in df_nsparameters.columns[:3]:\n",
    "        b = df_nsparameters.iloc[pos-past_days:pos][ns_factor]\n",
    "        #fit data using ARIMA(1,0,0) model in build function\n",
    "        model = ar.ARIMA(b, order=(1,0,0)).fit()\n",
    "        #print(model.summary()) \n",
    "        \n",
    "        # half-life = -log(2)/log(slope_coeff_AR1)\n",
    "        h = -math.log(2)/math.log(model.arparams)\n",
    "        hf.append(h)\n",
    "        \n",
    "        forcast_b = model.forecast(forcast_days+1)[0]\n",
    "        forcast.append(forcast_b)\n",
    "    \n",
    "    #Dataframe of forecasted Betas\n",
    "    predicted_betas = pd.DataFrame(np.array(forcast).T)\n",
    "    predicted_betas.columns = df_nsparameters.columns[:3]\n",
    "    betas_index = df_nsparameters.iloc[pos:pos+forcast_days+1].index\n",
    "    predicted_betas['Date'] = betas_index\n",
    "    predicted_betas.set_index('Date', inplace=True)\n",
    "    predicted_betas\n",
    "    \n",
    "    #Dataframe of half-life\n",
    "    halflife = pd.DataFrame(columns=['Parameters', 'Half Life'])\n",
    "    halflife['Parameters'] = df_nsparameters.columns[:3]\n",
    "    halflife.set_index('Parameters', inplace = True)\n",
    "    halflife['Half Life'] = hf\n",
    "    \n",
    "    return halflife, predicted_betas\n"
   ]
  },
  {
   "cell_type": "markdown",
   "metadata": {},
   "source": [
    "### Feeling the Data Before Analysis:\n",
    "###### I choose to visualize the time series of betas before we use AR1 model for prediction. The intent behind doing this is to analyze the effect of selection of past data to be used for AR1 analysis. More precisely I did this visual inspection to decide whether to consider calendar 6 months or 180 trading days. The graphs below are telling and so I choose to present results for both calendar 6 months and 180 trading days"
   ]
  },
  {
   "cell_type": "markdown",
   "metadata": {},
   "source": [
    "#### Visual Inspection of NS Factor's time series"
   ]
  },
  {
   "cell_type": "code",
   "execution_count": 16,
   "metadata": {},
   "outputs": [
    {
     "data": {
      "image/png": "[encoded data removed]",
      "text/plain": [
       "<matplotlib.figure.Figure at 0x1a5148e3668>"
      ]
     },
     "metadata": {},
     "output_type": "display_data"
    },
    {
     "data": {
      "image/png": "[encoded data removed]",
      "text/plain": [
       "<matplotlib.figure.Figure at 0x1a513b56cf8>"
      ]
     },
     "metadata": {},
     "output_type": "display_data"
    },
    {
     "data": {
      "image/png": "[encoded data removed]",
      "text/plain": [
       "<matplotlib.figure.Figure at 0x1a51466db00>"
      ]
     },
     "metadata": {},
     "output_type": "display_data"
    }
   ],
   "source": [
    "b0b1b2_a = ns_parameters.iloc[499-180:499-126]\n",
    "b0b1b2_c = ns_parameters.iloc[499-126:499]\n",
    "[plt.plot(ns_parameters[:499-180]['b0'], label= 'Before 6 months'),plt.plot(b0b1b2_a['b0'],'b', label = 'From 180 Data points'),plt.plot(b0b1b2_c['b0'],'r', label = '6 calendar months'),plt.plot(ns_parameters[499:]['b0'], label= 'After 6 months')]\n",
    "plt.legend(loc=0)\n",
    "plt.title('NS Factor Beta 0')\n",
    "plt.show()\n",
    "\n",
    "[plt.plot(ns_parameters[:499-180]['b1'], label= 'Before 6 months'),plt.plot(b0b1b2_a['b1'],'b', label = 'From 180 Data points'),plt.plot(b0b1b2_c['b1'],'r', label = '6 calendar months'), plt.plot(ns_parameters[499:]['b1'], label= 'After 6 months')]\n",
    "plt.legend(loc=0)\n",
    "plt.title('NS Factor Beta 1')\n",
    "plt.show()\n",
    "\n",
    "[plt.plot(ns_parameters[:499-180]['b2'], label= 'Before 6 months'),plt.plot(b0b1b2_a['b2'],'b', label = 'From 180 Data points'),plt.plot(b0b1b2_c['b2'],'r', label = '6 calendar months'), plt.plot(ns_parameters[499:]['b2'], label= 'After 6 months')]\n",
    "plt.legend(loc=0)\n",
    "plt.title('NS Factor Beta 2')\n",
    "plt.show()"
   ]
  },
  {
   "cell_type": "markdown",
   "metadata": {},
   "source": [
    "#### Problem 2. Step 2: Use 6m of data prior to each of the 5 days to fit AR(1) to each of $\\lambda$ and $ \\beta_0(t), \\beta_1(t), and \\beta_2(t) $ time series and co mpute half-lives (HL). Generate t+5d. t+10d, t+1m forecast for each of the 5 days, using the corresponding model for each forecast. Total of 3 forecasts for each of the 5 days."
   ]
  },
  {
   "cell_type": "markdown",
   "metadata": {},
   "source": [
    "### t+5d Half-life for 5 days"
   ]
  },
  {
   "cell_type": "code",
   "execution_count": 17,
   "metadata": {},
   "outputs": [
    {
     "name": "stdout",
     "output_type": "stream",
     "text": [
      "\n",
      " 180 data points 2013-12-31 00:00:00\n",
      "              Half Life\n",
      "Parameters            \n",
      "b0          126.859009\n",
      "b1          139.156154\n",
      "b2           16.954976\n",
      "\n",
      " 180 data points 2013-12-24 00:00:00\n",
      "              Half Life\n",
      "Parameters            \n",
      "b0          116.785062\n",
      "b1          132.324984\n",
      "b2           16.937142\n",
      "\n",
      " 180 data points 2013-12-27 00:00:00\n",
      "              Half Life\n",
      "Parameters            \n",
      "b0          105.778084\n",
      "b1          122.561350\n",
      "b2           18.140530\n",
      "\n",
      " 180 data points 2014-01-02 00:00:00\n",
      "              Half Life\n",
      "Parameters            \n",
      "b0          149.934950\n",
      "b1          161.866876\n",
      "b2           16.459938\n",
      "\n",
      " 180 data points 2013-12-30 00:00:00\n",
      "              Half Life\n",
      "Parameters            \n",
      "b0          111.241023\n",
      "b1          128.718622\n",
      "b2           17.539979\n",
      "\n",
      "Calendar 6 months 2013-12-31 00:00:00\n",
      "             Half Life\n",
      "Parameters           \n",
      "b0          12.634308\n",
      "b1          10.602886\n",
      "b2          15.467125\n",
      "\n",
      "Calendar 6 months 2013-12-24 00:00:00\n",
      "             Half Life\n",
      "Parameters           \n",
      "b0          11.641665\n",
      "b1           9.639650\n",
      "b2          16.298167\n",
      "\n",
      "Calendar 6 months 2013-12-27 00:00:00\n",
      "             Half Life\n",
      "Parameters           \n",
      "b0          11.885046\n",
      "b1          10.403932\n",
      "b2          15.536039\n",
      "\n",
      "Calendar 6 months 2014-01-02 00:00:00\n",
      "             Half Life\n",
      "Parameters           \n",
      "b0          14.817654\n",
      "b1          12.227071\n",
      "b2          15.292077\n",
      "\n",
      "Calendar 6 months 2013-12-30 00:00:00\n",
      "             Half Life\n",
      "Parameters           \n",
      "b0          13.270541\n",
      "b1          11.905481\n",
      "b2          14.736613\n"
     ]
    },
    {
     "data": {
      "text/plain": [
       "[None, None, None, None, None]"
      ]
     },
     "execution_count": 17,
     "metadata": {},
     "output_type": "execute_result"
    }
   ],
   "source": [
    "Predicted_beta_5d = []\n",
    "half_life_5 = []\n",
    "for date in RMSE_High2low_Top5.index:\n",
    "    Predicted_5 = AR1_hf_fc_nsfactors(date, ns_parameters, 180, 5)\n",
    "    Predicted_beta_5d.append(Predicted_5[1])\n",
    "    half_life_5.append(Predicted_5[0])\n",
    "    \n",
    "Predicted_beta_5d_c = []\n",
    "half_life_5_c = []\n",
    "for date in RMSE_High2low_Top5.index:\n",
    "    Predicted_5_c = AR1_hf_fc_nsfactors(date, ns_parameters, 126, 5)\n",
    "    Predicted_beta_5d_c.append(Predicted_5_c[1])\n",
    "    half_life_5_c.append(Predicted_5_c[0])\n",
    "\n",
    "[print('\\n 180 data points '+str(RMSE_High2low_Top5.index[i])+'\\n',half_life_5[i]) for i in range(0,5)]\n",
    "[print('\\nCalendar 6 months '+str(RMSE_High2low_Top5.index[i])+'\\n', half_life_5_c[i]) for i in range(0,5)]"
   ]
  },
  {
   "cell_type": "markdown",
   "metadata": {},
   "source": [
    "### t+5d Predicted Betas for 5 days"
   ]
  },
  {
   "cell_type": "code",
   "execution_count": 18,
   "metadata": {},
   "outputs": [
    {
     "name": "stdout",
     "output_type": "stream",
     "text": [
      "\n",
      " 180 data points 2013-12-31 00:00:00\n",
      "                   b0        b1        b2\n",
      "Date                                    \n",
      "2013-12-31  4.676209 -4.752774 -3.935339\n",
      "2014-01-02  4.673197 -4.749341 -3.951524\n",
      "2014-01-03  4.670200 -4.745926 -3.967061\n",
      "2014-01-06  4.667220 -4.742527 -3.981975\n",
      "2014-01-07  4.664256 -4.739146 -3.996291\n",
      "2014-01-08  4.661309 -4.735781 -4.010035\n",
      "\n",
      " 180 data points 2013-12-24 00:00:00\n",
      "                   b0        b1        b2\n",
      "Date                                    \n",
      "2013-12-24  4.605475 -4.681275 -3.870451\n",
      "2013-12-26  4.602431 -4.677833 -3.889377\n",
      "2013-12-27  4.599404 -4.674409 -3.907543\n",
      "2013-12-30  4.596395 -4.671003 -3.924982\n",
      "2013-12-31  4.593404 -4.667615 -3.941721\n",
      "2014-01-02  4.590430 -4.664244 -3.957789\n",
      "\n",
      " 180 data points 2013-12-27 00:00:00\n",
      "                   b0        b1        b2\n",
      "Date                                    \n",
      "2013-12-27  4.682104 -4.773691 -3.820977\n",
      "2013-12-30  4.678716 -4.769923 -3.840488\n",
      "2013-12-31  4.675350 -4.766177 -3.859268\n",
      "2014-01-02  4.672007 -4.762451 -3.877343\n",
      "2014-01-03  4.668685 -4.758747 -3.894741\n",
      "2014-01-06  4.665384 -4.755063 -3.911487\n",
      "\n",
      " 180 data points 2014-01-02 00:00:00\n",
      "                   b0        b1        b2\n",
      "Date                                    \n",
      "2014-01-02  4.752814 -4.837132 -3.981828\n",
      "2014-01-03  4.749931 -4.833847 -3.996394\n",
      "2014-01-06  4.747061 -4.830576 -4.010359\n",
      "2014-01-07  4.744204 -4.827319 -4.023748\n",
      "2014-01-08  4.741361 -4.824076 -4.036586\n",
      "2014-01-09  4.738530 -4.820847 -4.048893\n",
      "\n",
      " 180 data points 2013-12-30 00:00:00\n",
      "                   b0        b1        b2\n",
      "Date                                    \n",
      "2013-12-30  4.719334 -4.810828 -3.911515\n",
      "2013-12-31  4.715947 -4.807094 -3.928492\n",
      "2014-01-02  4.712580 -4.803380 -3.944811\n",
      "2014-01-03  4.709234 -4.799686 -3.960498\n",
      "2014-01-06  4.705909 -4.796012 -3.975577\n",
      "2014-01-07  4.702605 -4.792358 -3.990072\n",
      "\n",
      "Calendar 6 months 2013-12-31 00:00:00\n",
      "                   b0        b1        b2\n",
      "Date                                    \n",
      "2013-12-31  4.667737 -4.739229 -3.929329\n",
      "2014-01-02  4.656849 -4.723311 -3.939703\n",
      "2014-01-03  4.646542 -4.708400 -3.949622\n",
      "2014-01-06  4.636785 -4.694432 -3.959107\n",
      "2014-01-07  4.627550 -4.681349 -3.968176\n",
      "2014-01-08  4.618807 -4.669093 -3.976848\n",
      "\n",
      "Calendar 6 months 2013-12-24 00:00:00\n",
      "                   b0        b1        b2\n",
      "Date                                    \n",
      "2013-12-24  4.599266 -4.669813 -3.862370\n",
      "2013-12-26  4.590529 -4.655927 -3.873521\n",
      "2013-12-27  4.582297 -4.643004 -3.884208\n",
      "2013-12-30  4.574541 -4.630977 -3.894450\n",
      "2013-12-31  4.567233 -4.619785 -3.904265\n",
      "2014-01-02  4.560347 -4.609370 -3.913672\n",
      "\n",
      "Calendar 6 months 2013-12-27 00:00:00\n",
      "                   b0        b1        b2\n",
      "Date                                    \n",
      "2013-12-27  4.673005 -4.758682 -3.816216\n",
      "2013-12-30  4.661204 -4.741096 -3.831050\n",
      "2013-12-31  4.650072 -4.724643 -3.845236\n",
      "2014-01-02  4.639570 -4.709251 -3.858803\n",
      "2014-01-03  4.629664 -4.694850 -3.871778\n",
      "2014-01-06  4.620318 -4.681378 -3.884188\n",
      "\n",
      "Calendar 6 months 2014-01-02 00:00:00\n",
      "                   b0        b1        b2\n",
      "Date                                    \n",
      "2014-01-02  4.742673 -4.821457 -3.975732\n",
      "2014-01-03  4.730231 -4.803528 -3.984426\n",
      "2014-01-06  4.718357 -4.786588 -3.992734\n",
      "2014-01-07  4.707026 -4.770581 -4.000674\n",
      "2014-01-08  4.696213 -4.755457 -4.008263\n",
      "2014-01-09  4.685894 -4.741166 -4.015515\n",
      "\n",
      "Calendar 6 months 2013-12-30 00:00:00\n",
      "                   b0        b1        b2\n",
      "Date                                    \n",
      "2013-12-30  4.709720 -4.796064 -3.907372\n",
      "2013-12-31  4.697360 -4.778593 -3.920269\n",
      "2014-01-02  4.685628 -4.762111 -3.932573\n",
      "2014-01-03  4.674494 -4.746560 -3.944313\n",
      "2014-01-06  4.663926 -4.731889 -3.955513\n",
      "2014-01-07  4.653897 -4.718048 -3.966198\n"
     ]
    },
    {
     "data": {
      "text/plain": [
       "[None, None, None, None, None]"
      ]
     },
     "execution_count": 18,
     "metadata": {},
     "output_type": "execute_result"
    }
   ],
   "source": [
    "[print('\\n 180 data points '+str(RMSE_High2low_Top5.index[i])+'\\n',Predicted_beta_5d[i]) for i in range(0,5)]\n",
    "[print('\\nCalendar 6 months '+str(RMSE_High2low_Top5.index[i])+'\\n', Predicted_beta_5d_c[i]) for i in range(0,5)]"
   ]
  },
  {
   "cell_type": "markdown",
   "metadata": {},
   "source": [
    "### t+10d Predicted Betas for 5 days"
   ]
  },
  {
   "cell_type": "code",
   "execution_count": 19,
   "metadata": {
    "scrolled": false
   },
   "outputs": [
    {
     "name": "stdout",
     "output_type": "stream",
     "text": [
      "\n",
      " 180 data points 2013-12-31 00:00:00\n",
      "                   b0        b1        b2\n",
      "Date                                    \n",
      "2013-12-31  4.676209 -4.752774 -3.935339\n",
      "2014-01-02  4.673197 -4.749341 -3.951524\n",
      "2014-01-03  4.670200 -4.745926 -3.967061\n",
      "2014-01-06  4.667220 -4.742527 -3.981975\n",
      "2014-01-07  4.664256 -4.739146 -3.996291\n",
      "2014-01-08  4.661309 -4.735781 -4.010035\n",
      "2014-01-09  4.658377 -4.732433 -4.023227\n",
      "2014-01-10  4.655462 -4.729102 -4.035891\n",
      "2014-01-13  4.652562 -4.725787 -4.048048\n",
      "2014-01-14  4.649678 -4.722489 -4.059718\n",
      "2014-01-15  4.646810 -4.719207 -4.070921\n",
      "\n",
      " 180 data points 2013-12-24 00:00:00\n",
      "                   b0        b1        b2\n",
      "Date                                    \n",
      "2013-12-24  4.605475 -4.681275 -3.870451\n",
      "2013-12-26  4.602431 -4.677833 -3.889377\n",
      "2013-12-27  4.599404 -4.674409 -3.907543\n",
      "2013-12-30  4.596395 -4.671003 -3.924982\n",
      "2013-12-31  4.593404 -4.667615 -3.941721\n",
      "2014-01-02  4.590430 -4.664244 -3.957789\n",
      "2014-01-03  4.587474 -4.660891 -3.973212\n",
      "2014-01-06  4.584536 -4.657556 -3.988017\n",
      "2014-01-07  4.581615 -4.654238 -4.002229\n",
      "2014-01-08  4.578711 -4.650937 -4.015871\n",
      "2014-01-09  4.575825 -4.647654 -4.028965\n",
      "\n",
      " 180 data points 2013-12-27 00:00:00\n",
      "                   b0        b1        b2\n",
      "Date                                    \n",
      "2013-12-27  4.682104 -4.773691 -3.820977\n",
      "2013-12-30  4.678716 -4.769923 -3.840488\n",
      "2013-12-31  4.675350 -4.766177 -3.859268\n",
      "2014-01-02  4.672007 -4.762451 -3.877343\n",
      "2014-01-03  4.668685 -4.758747 -3.894741\n",
      "2014-01-06  4.665384 -4.755063 -3.911487\n",
      "2014-01-07  4.662105 -4.751400 -3.927605\n",
      "2014-01-08  4.658848 -4.747758 -3.943119\n",
      "2014-01-09  4.655612 -4.744137 -3.958051\n",
      "2014-01-10  4.652397 -4.740535 -3.972424\n",
      "2014-01-13  4.649203 -4.736955 -3.986257\n",
      "\n",
      " 180 data points 2014-01-02 00:00:00\n",
      "                   b0        b1        b2\n",
      "Date                                    \n",
      "2014-01-02  4.752814 -4.837132 -3.981828\n",
      "2014-01-03  4.749931 -4.833847 -3.996394\n",
      "2014-01-06  4.747061 -4.830576 -4.010359\n",
      "2014-01-07  4.744204 -4.827319 -4.023748\n",
      "2014-01-08  4.741361 -4.824076 -4.036586\n",
      "2014-01-09  4.738530 -4.820847 -4.048893\n",
      "2014-01-10  4.735713 -4.817631 -4.060694\n",
      "2014-01-13  4.732909 -4.814430 -4.072007\n",
      "2014-01-14  4.730117 -4.811242 -4.082855\n",
      "2014-01-15  4.727339 -4.808067 -4.093254\n",
      "2014-01-16  4.724573 -4.804907 -4.103225\n",
      "\n",
      " 180 data points 2013-12-30 00:00:00\n",
      "                   b0        b1        b2\n",
      "Date                                    \n",
      "2013-12-30  4.719334 -4.810828 -3.911515\n",
      "2013-12-31  4.715947 -4.807094 -3.928492\n",
      "2014-01-02  4.712580 -4.803380 -3.944811\n",
      "2014-01-03  4.709234 -4.799686 -3.960498\n",
      "2014-01-06  4.705909 -4.796012 -3.975577\n",
      "2014-01-07  4.702605 -4.792358 -3.990072\n",
      "2014-01-08  4.699322 -4.788723 -4.004006\n",
      "2014-01-09  4.696058 -4.785107 -4.017399\n",
      "2014-01-10  4.692815 -4.781512 -4.030273\n",
      "2014-01-13  4.689592 -4.777935 -4.042649\n",
      "2014-01-14  4.686389 -4.774378 -4.054545\n",
      "\n",
      "Calendar 6 months 2013-12-31 00:00:00\n",
      "                   b0        b1        b2\n",
      "Date                                    \n",
      "2013-12-31  4.667737 -4.739229 -3.929329\n",
      "2014-01-02  4.656849 -4.723311 -3.939703\n",
      "2014-01-03  4.646542 -4.708400 -3.949622\n",
      "2014-01-06  4.636785 -4.694432 -3.959107\n",
      "2014-01-07  4.627550 -4.681349 -3.968176\n",
      "2014-01-08  4.618807 -4.669093 -3.976848\n",
      "2014-01-09  4.610531 -4.657613 -3.985139\n",
      "2014-01-10  4.602697 -4.646860 -3.993068\n",
      "2014-01-13  4.595281 -4.636787 -4.000648\n",
      "2014-01-14  4.588261 -4.627351 -4.007897\n",
      "2014-01-15  4.581616 -4.618513 -4.014828\n",
      "\n",
      "Calendar 6 months 2013-12-24 00:00:00\n",
      "                   b0        b1        b2\n",
      "Date                                    \n",
      "2013-12-24  4.599266 -4.669813 -3.862370\n",
      "2013-12-26  4.590529 -4.655927 -3.873521\n",
      "2013-12-27  4.582297 -4.643004 -3.884208\n",
      "2013-12-30  4.574541 -4.630977 -3.894450\n",
      "2013-12-31  4.567233 -4.619785 -3.904265\n",
      "2014-01-02  4.560347 -4.609370 -3.913672\n",
      "2014-01-03  4.553860 -4.599677 -3.922687\n",
      "2014-01-06  4.547748 -4.590657 -3.931327\n",
      "2014-01-07  4.541989 -4.582262 -3.939607\n",
      "2014-01-08  4.536562 -4.574450 -3.947542\n",
      "2014-01-09  4.531450 -4.567180 -3.955147\n",
      "\n",
      "Calendar 6 months 2013-12-27 00:00:00\n",
      "                   b0        b1        b2\n",
      "Date                                    \n",
      "2013-12-27  4.673005 -4.758682 -3.816216\n",
      "2013-12-30  4.661204 -4.741096 -3.831050\n",
      "2013-12-31  4.650072 -4.724643 -3.845236\n",
      "2014-01-02  4.639570 -4.709251 -3.858803\n",
      "2014-01-03  4.629664 -4.694850 -3.871778\n",
      "2014-01-06  4.620318 -4.681378 -3.884188\n",
      "2014-01-07  4.611503 -4.668774 -3.896055\n",
      "2014-01-08  4.603186 -4.656983 -3.907405\n",
      "2014-01-09  4.595341 -4.645951 -3.918259\n",
      "2014-01-10  4.587940 -4.635631 -3.928640\n",
      "2014-01-13  4.580958 -4.625976 -3.938568\n",
      "\n",
      "Calendar 6 months 2014-01-02 00:00:00\n",
      "                   b0        b1        b2\n",
      "Date                                    \n",
      "2014-01-02  4.742673 -4.821457 -3.975732\n",
      "2014-01-03  4.730231 -4.803528 -3.984426\n",
      "2014-01-06  4.718357 -4.786588 -3.992734\n",
      "2014-01-07  4.707026 -4.770581 -4.000674\n",
      "2014-01-08  4.696213 -4.755457 -4.008263\n",
      "2014-01-09  4.685894 -4.741166 -4.015515\n",
      "2014-01-10  4.676047 -4.727662 -4.022445\n",
      "2014-01-13  4.666649 -4.714903 -4.029069\n",
      "2014-01-14  4.657681 -4.702847 -4.035399\n",
      "2014-01-15  4.649123 -4.691456 -4.041448\n",
      "2014-01-16  4.640957 -4.680692 -4.047229\n",
      "\n",
      "Calendar 6 months 2013-12-30 00:00:00\n",
      "                   b0        b1        b2\n",
      "Date                                    \n",
      "2013-12-30  4.709720 -4.796064 -3.907372\n",
      "2013-12-31  4.697360 -4.778593 -3.920269\n",
      "2014-01-02  4.685628 -4.762111 -3.932573\n",
      "2014-01-03  4.674494 -4.746560 -3.944313\n",
      "2014-01-06  4.663926 -4.731889 -3.955513\n",
      "2014-01-07  4.653897 -4.718048 -3.966198\n",
      "2014-01-08  4.644377 -4.704990 -3.976392\n",
      "2014-01-09  4.635342 -4.692670 -3.986118\n",
      "2014-01-10  4.626767 -4.681047 -3.995397\n",
      "2014-01-13  4.618628 -4.670082 -4.004250\n",
      "2014-01-14  4.610904 -4.659736 -4.012696\n"
     ]
    },
    {
     "data": {
      "text/plain": [
       "[None, None, None, None, None]"
      ]
     },
     "execution_count": 19,
     "metadata": {},
     "output_type": "execute_result"
    }
   ],
   "source": [
    "Predicted_beta_10d = []\n",
    "\n",
    "for date in RMSE_High2low_Top5.index:\n",
    "    Predicted_10 = AR1_hf_fc_nsfactors(date, ns_parameters, 180, 10 )\n",
    "    Predicted_beta_10d.append(Predicted_10[1])\n",
    "\n",
    "Predicted_beta_10d_c = []\n",
    "half_life_10_c = []\n",
    "for date in RMSE_High2low_Top5.index:\n",
    "    Predicted_10_c = AR1_hf_fc_nsfactors(date, ns_parameters, 126, 10)\n",
    "    Predicted_beta_10d_c.append(Predicted_10_c[1])\n",
    "    \n",
    "[print('\\n 180 data points '+str(RMSE_High2low_Top5.index[i])+'\\n',Predicted_beta_10d[i]) for i in range(0,5)]\n",
    "[print('\\nCalendar 6 months '+str(RMSE_High2low_Top5.index[i])+'\\n', Predicted_beta_10d_c[i]) for i in range(0,5)]"
   ]
  },
  {
   "cell_type": "markdown",
   "metadata": {},
   "source": [
    "### t+30d or t+1m Predicted Betas for 5 days"
   ]
  },
  {
   "cell_type": "code",
   "execution_count": 20,
   "metadata": {
    "scrolled": false
   },
   "outputs": [
    {
     "name": "stdout",
     "output_type": "stream",
     "text": [
      "\n",
      " 180 data points 2013-12-31 00:00:00\n",
      "                   b0        b1        b2\n",
      "Date                                    \n",
      "2013-12-31  4.676209 -4.752774 -3.935339\n",
      "2014-01-02  4.673197 -4.749341 -3.951524\n",
      "2014-01-03  4.670200 -4.745926 -3.967061\n",
      "2014-01-06  4.667220 -4.742527 -3.981975\n",
      "2014-01-07  4.664256 -4.739146 -3.996291\n",
      "\n",
      " 180 data points 2013-12-24 00:00:00\n",
      "                   b0        b1        b2\n",
      "Date                                    \n",
      "2013-12-24  4.605475 -4.681275 -3.870451\n",
      "2013-12-26  4.602431 -4.677833 -3.889377\n",
      "2013-12-27  4.599404 -4.674409 -3.907543\n",
      "2013-12-30  4.596395 -4.671003 -3.924982\n",
      "2013-12-31  4.593404 -4.667615 -3.941721\n",
      "\n",
      " 180 data points 2013-12-27 00:00:00\n",
      "                   b0        b1        b2\n",
      "Date                                    \n",
      "2013-12-27  4.682104 -4.773691 -3.820977\n",
      "2013-12-30  4.678716 -4.769923 -3.840488\n",
      "2013-12-31  4.675350 -4.766177 -3.859268\n",
      "2014-01-02  4.672007 -4.762451 -3.877343\n",
      "2014-01-03  4.668685 -4.758747 -3.894741\n",
      "\n",
      " 180 data points 2014-01-02 00:00:00\n",
      "                   b0        b1        b2\n",
      "Date                                    \n",
      "2014-01-02  4.752814 -4.837132 -3.981828\n",
      "2014-01-03  4.749931 -4.833847 -3.996394\n",
      "2014-01-06  4.747061 -4.830576 -4.010359\n",
      "2014-01-07  4.744204 -4.827319 -4.023748\n",
      "2014-01-08  4.741361 -4.824076 -4.036586\n",
      "\n",
      " 180 data points 2013-12-30 00:00:00\n",
      "                   b0        b1        b2\n",
      "Date                                    \n",
      "2013-12-30  4.719334 -4.810828 -3.911515\n",
      "2013-12-31  4.715947 -4.807094 -3.928492\n",
      "2014-01-02  4.712580 -4.803380 -3.944811\n",
      "2014-01-03  4.709234 -4.799686 -3.960498\n",
      "2014-01-06  4.705909 -4.796012 -3.975577\n",
      "\n",
      "Calendar 6 months 2013-12-31 00:00:00\n",
      "                   b0        b1        b2\n",
      "Date                                    \n",
      "2013-12-31  4.667737 -4.739229 -3.929329\n",
      "2014-01-02  4.656849 -4.723311 -3.939703\n",
      "2014-01-03  4.646542 -4.708400 -3.949622\n",
      "2014-01-06  4.636785 -4.694432 -3.959107\n",
      "2014-01-07  4.627550 -4.681349 -3.968176\n",
      "\n",
      "Calendar 6 months 2013-12-24 00:00:00\n",
      "                   b0        b1        b2\n",
      "Date                                    \n",
      "2013-12-24  4.599266 -4.669813 -3.862370\n",
      "2013-12-26  4.590529 -4.655927 -3.873521\n",
      "2013-12-27  4.582297 -4.643004 -3.884208\n",
      "2013-12-30  4.574541 -4.630977 -3.894450\n",
      "2013-12-31  4.567233 -4.619785 -3.904265\n",
      "\n",
      "Calendar 6 months 2013-12-27 00:00:00\n",
      "                   b0        b1        b2\n",
      "Date                                    \n",
      "2013-12-27  4.673005 -4.758682 -3.816216\n",
      "2013-12-30  4.661204 -4.741096 -3.831050\n",
      "2013-12-31  4.650072 -4.724643 -3.845236\n",
      "2014-01-02  4.639570 -4.709251 -3.858803\n",
      "2014-01-03  4.629664 -4.694850 -3.871778\n",
      "\n",
      "Calendar 6 months 2014-01-02 00:00:00\n",
      "                   b0        b1        b2\n",
      "Date                                    \n",
      "2014-01-02  4.742673 -4.821457 -3.975732\n",
      "2014-01-03  4.730231 -4.803528 -3.984426\n",
      "2014-01-06  4.718357 -4.786588 -3.992734\n",
      "2014-01-07  4.707026 -4.770581 -4.000674\n",
      "2014-01-08  4.696213 -4.755457 -4.008263\n",
      "\n",
      "Calendar 6 months 2013-12-30 00:00:00\n",
      "                   b0        b1        b2\n",
      "Date                                    \n",
      "2013-12-30  4.709720 -4.796064 -3.907372\n",
      "2013-12-31  4.697360 -4.778593 -3.920269\n",
      "2014-01-02  4.685628 -4.762111 -3.932573\n",
      "2014-01-03  4.674494 -4.746560 -3.944313\n",
      "2014-01-06  4.663926 -4.731889 -3.955513\n"
     ]
    },
    {
     "data": {
      "text/plain": [
       "[None, None, None, None, None]"
      ]
     },
     "execution_count": 20,
     "metadata": {},
     "output_type": "execute_result"
    }
   ],
   "source": [
    "Predicted_beta_30d =  []\n",
    "for date in RMSE_High2low_Top5.index:\n",
    "    Predicted_30 = AR1_hf_fc_nsfactors(date, ns_parameters, 180, 30 )\n",
    "    Predicted_beta_30d.append(Predicted_30[1])\n",
    "Predicted_beta_30d\n",
    "\n",
    "Predicted_beta_30d_c = []\n",
    "half_life_30_c = []\n",
    "for date in RMSE_High2low_Top5.index:\n",
    "    Predicted_30_c = AR1_hf_fc_nsfactors(date, ns_parameters, 126, 30)\n",
    "    Predicted_beta_30d_c.append(Predicted_30_c[1])\n",
    "    \n",
    "[print('\\n 180 data points '+str(RMSE_High2low_Top5.index[i])+'\\n',Predicted_beta_30d[i].head()) for i in range(0,5)]\n",
    "[print('\\nCalendar 6 months '+str(RMSE_High2low_Top5.index[i])+'\\n', Predicted_beta_30d_c[i].head()) for i in range(0,5)]"
   ]
  },
  {
   "cell_type": "markdown",
   "metadata": {},
   "source": [
    "### Yield Curve Using predicted betas Vs Optimal Betas"
   ]
  },
  {
   "cell_type": "code",
   "execution_count": 21,
   "metadata": {},
   "outputs": [
    {
     "name": "stderr",
     "output_type": "stream",
     "text": [
      "C:\\Users\\manaj\\Anaconda3\\lib\\site-packages\\ipykernel_launcher.py:26: FutureWarning: reshape is deprecated and will raise in a subsequent release. Please use .values.reshape(...) instead\n"
     ]
    },
    {
     "data": {
      "image/png": "[encoded data removed]",
      "text/plain": [
       "<matplotlib.figure.Figure at 0x1a5148d1780>"
      ]
     },
     "metadata": {},
     "output_type": "display_data"
    }
   ],
   "source": [
    "ns_pltcurve('2013-12-30', ns_parameters, optimal_lambda, maturity, df, 'Optimal Betas')\n",
    "ns_pltcurve('2013-12-30', Predicted_beta_5d[4], optimal_lambda, maturity, df, 'Predicted Betas 180 data pts')\n",
    "plt.show()"
   ]
  },
  {
   "cell_type": "code",
   "execution_count": 22,
   "metadata": {},
   "outputs": [
    {
     "name": "stderr",
     "output_type": "stream",
     "text": [
      "C:\\Users\\manaj\\Anaconda3\\lib\\site-packages\\ipykernel_launcher.py:26: FutureWarning: reshape is deprecated and will raise in a subsequent release. Please use .values.reshape(...) instead\n"
     ]
    },
    {
     "data": {
      "image/png": "[encoded data removed]",
      "text/plain": [
       "<matplotlib.figure.Figure at 0x1a5144937b8>"
      ]
     },
     "metadata": {},
     "output_type": "display_data"
    }
   ],
   "source": [
    "ns_pltcurve('2013-12-30', ns_parameters, optimal_lambda, maturity, df, 'Optimal Betas')\n",
    "ns_pltcurve('2013-12-30', Predicted_beta_5d_c[4], optimal_lambda, maturity, df, 'Predicted Betas 6 calendar mo')\n",
    "plt.show()"
   ]
  },
  {
   "cell_type": "markdown",
   "metadata": {},
   "source": [
    "### Function that fits lag data as Random Walk:\n",
    "###### To fit random walk model I use ARIMA(0,1,0) model i.e. special case of AR1 model with slope coefficient equal to 1."
   ]
  },
  {
   "cell_type": "code",
   "execution_count": 23,
   "metadata": {
    "collapsed": true
   },
   "outputs": [],
   "source": [
    "def randomwalk_hf_fc_nsfactors(date, df_nsparameters, past_days, forcast_days):\n",
    "    \n",
    "    ind = np.where(df_nsparameters.index==date)\n",
    "    pos = ind[0][0]\n",
    "    \n",
    "    hf = []\n",
    "    forcast = []\n",
    "    \n",
    "    for ns_factor in df_nsparameters.columns[:3]:\n",
    "        b = df_nsparameters.iloc[pos-past_days:pos][ns_factor]\n",
    "        model = ar.ARIMA(b, order=(0,1,0)).fit()\n",
    "        h = -math.log(2)/math.log(model.arparams)\n",
    "        hf.append(h)\n",
    "        forcast_b = model.forecast(forcast_days+1)[0]\n",
    "        forcast.append(forcast_b)\n",
    "    \n",
    "    predicted_betas = pd.DataFrame(np.array(forcast).T)\n",
    "    predicted_betas.columns = df_nsparameters.columns[:3]\n",
    "    betas_index = df_nsparameters.iloc[pos:pos+forcast_days+1].index\n",
    "    predicted_betas['Date'] = betas_index\n",
    "    predicted_betas.set_index('Date', inplace=True)\n",
    "    predicted_betas\n",
    "    \n",
    "    halflife = pd.DataFrame(columns=['Parameters', 'Half Life'])\n",
    "    halflife['Parameters'] = df_nsparameters.columns[:3]\n",
    "    halflife.set_index('Parameters', inplace = True)\n",
    "    halflife['Half Life'] = hf\n",
    "    \n",
    "    return halflife, predicted_betas\n"
   ]
  },
  {
   "cell_type": "markdown",
   "metadata": {},
   "source": [
    "### t+5d Half-life for 5 days using Random Walk Model"
   ]
  },
  {
   "cell_type": "code",
   "execution_count": 24,
   "metadata": {},
   "outputs": [
    {
     "name": "stdout",
     "output_type": "stream",
     "text": [
      "\n",
      " 180 data points 2013-12-31 00:00:00\n",
      "              Half Life\n",
      "Parameters            \n",
      "b0          126.859009\n",
      "b1          139.156154\n",
      "b2           16.954976\n",
      "\n",
      " 180 data points 2013-12-24 00:00:00\n",
      "              Half Life\n",
      "Parameters            \n",
      "b0          116.785062\n",
      "b1          132.324984\n",
      "b2           16.937142\n",
      "\n",
      " 180 data points 2013-12-27 00:00:00\n",
      "              Half Life\n",
      "Parameters            \n",
      "b0          105.778084\n",
      "b1          122.561350\n",
      "b2           18.140530\n",
      "\n",
      " 180 data points 2014-01-02 00:00:00\n",
      "              Half Life\n",
      "Parameters            \n",
      "b0          149.934950\n",
      "b1          161.866876\n",
      "b2           16.459938\n",
      "\n",
      " 180 data points 2013-12-30 00:00:00\n",
      "              Half Life\n",
      "Parameters            \n",
      "b0          111.241023\n",
      "b1          128.718622\n",
      "b2           17.539979\n",
      "\n",
      "Calendar 6 months 2013-12-31 00:00:00\n",
      "             Half Life\n",
      "Parameters           \n",
      "b0          12.634308\n",
      "b1          10.602886\n",
      "b2          15.467125\n",
      "\n",
      "Calendar 6 months 2013-12-24 00:00:00\n",
      "             Half Life\n",
      "Parameters           \n",
      "b0          11.641665\n",
      "b1           9.639650\n",
      "b2          16.298167\n",
      "\n",
      "Calendar 6 months 2013-12-27 00:00:00\n",
      "             Half Life\n",
      "Parameters           \n",
      "b0          11.885046\n",
      "b1          10.403932\n",
      "b2          15.536039\n",
      "\n",
      "Calendar 6 months 2014-01-02 00:00:00\n",
      "             Half Life\n",
      "Parameters           \n",
      "b0          14.817654\n",
      "b1          12.227071\n",
      "b2          15.292077\n",
      "\n",
      "Calendar 6 months 2013-12-30 00:00:00\n",
      "             Half Life\n",
      "Parameters           \n",
      "b0          13.270541\n",
      "b1          11.905481\n",
      "b2          14.736613\n"
     ]
    },
    {
     "data": {
      "text/plain": [
       "[None, None, None, None, None]"
      ]
     },
     "execution_count": 24,
     "metadata": {},
     "output_type": "execute_result"
    }
   ],
   "source": [
    "Predicted_beta_5d_rw = []\n",
    "half_life_5_rw = []\n",
    "\n",
    "for date in RMSE_High2low_Top5.index:\n",
    "    Predicted_5_rw = AR1_hf_fc_nsfactors(date, ns_parameters, 180, 5)\n",
    "    Predicted_beta_5d_rw.append(Predicted_5_rw[1])\n",
    "    half_life_5_rw.append(Predicted_5_rw[0])\n",
    "    \n",
    "Predicted_beta_5d_rw_c = []\n",
    "half_life_5_rw_c = []\n",
    "for date in RMSE_High2low_Top5.index:\n",
    "    Predicted_5_rw_c = AR1_hf_fc_nsfactors(date, ns_parameters, 126, 5)\n",
    "    Predicted_beta_5d_rw_c.append(Predicted_5_rw_c[1])\n",
    "    half_life_5_rw_c.append(Predicted_5_rw_c[0])\n",
    "\n",
    "[print('\\n 180 data points '+str(RMSE_High2low_Top5.index[i])+'\\n',half_life_5_rw[i]) for i in range(0,5)]\n",
    "[print('\\nCalendar 6 months '+str(RMSE_High2low_Top5.index[i])+'\\n', half_life_5_rw_c[i]) for i in range(0,5)]\n"
   ]
  },
  {
   "cell_type": "markdown",
   "metadata": {},
   "source": [
    "### Problem 2. Step 3. Do these forecasts perform better than those generated under a random walk assumption?"
   ]
  },
  {
   "cell_type": "markdown",
   "metadata": {},
   "source": [
    "### t+5d Predicted betas for 5 days using Random Walk Model"
   ]
  },
  {
   "cell_type": "code",
   "execution_count": 25,
   "metadata": {},
   "outputs": [
    {
     "name": "stdout",
     "output_type": "stream",
     "text": [
      "\n",
      " 180 data points 2013-12-31 00:00:00\n",
      "                   b0        b1        b2\n",
      "Date                                    \n",
      "2013-12-31  4.676209 -4.752774 -3.935339\n",
      "2014-01-02  4.673197 -4.749341 -3.951524\n",
      "2014-01-03  4.670200 -4.745926 -3.967061\n",
      "2014-01-06  4.667220 -4.742527 -3.981975\n",
      "2014-01-07  4.664256 -4.739146 -3.996291\n",
      "2014-01-08  4.661309 -4.735781 -4.010035\n",
      "\n",
      " 180 data points 2013-12-24 00:00:00\n",
      "                   b0        b1        b2\n",
      "Date                                    \n",
      "2013-12-24  4.605475 -4.681275 -3.870451\n",
      "2013-12-26  4.602431 -4.677833 -3.889377\n",
      "2013-12-27  4.599404 -4.674409 -3.907543\n",
      "2013-12-30  4.596395 -4.671003 -3.924982\n",
      "2013-12-31  4.593404 -4.667615 -3.941721\n",
      "2014-01-02  4.590430 -4.664244 -3.957789\n",
      "\n",
      " 180 data points 2013-12-27 00:00:00\n",
      "                   b0        b1        b2\n",
      "Date                                    \n",
      "2013-12-27  4.682104 -4.773691 -3.820977\n",
      "2013-12-30  4.678716 -4.769923 -3.840488\n",
      "2013-12-31  4.675350 -4.766177 -3.859268\n",
      "2014-01-02  4.672007 -4.762451 -3.877343\n",
      "2014-01-03  4.668685 -4.758747 -3.894741\n",
      "2014-01-06  4.665384 -4.755063 -3.911487\n",
      "\n",
      " 180 data points 2014-01-02 00:00:00\n",
      "                   b0        b1        b2\n",
      "Date                                    \n",
      "2014-01-02  4.752814 -4.837132 -3.981828\n",
      "2014-01-03  4.749931 -4.833847 -3.996394\n",
      "2014-01-06  4.747061 -4.830576 -4.010359\n",
      "2014-01-07  4.744204 -4.827319 -4.023748\n",
      "2014-01-08  4.741361 -4.824076 -4.036586\n",
      "2014-01-09  4.738530 -4.820847 -4.048893\n",
      "\n",
      " 180 data points 2013-12-30 00:00:00\n",
      "                   b0        b1        b2\n",
      "Date                                    \n",
      "2013-12-30  4.719334 -4.810828 -3.911515\n",
      "2013-12-31  4.715947 -4.807094 -3.928492\n",
      "2014-01-02  4.712580 -4.803380 -3.944811\n",
      "2014-01-03  4.709234 -4.799686 -3.960498\n",
      "2014-01-06  4.705909 -4.796012 -3.975577\n",
      "2014-01-07  4.702605 -4.792358 -3.990072\n",
      "\n",
      "Calendar 6 months 2013-12-31 00:00:00\n",
      "                   b0        b1        b2\n",
      "Date                                    \n",
      "2013-12-31  4.667737 -4.739229 -3.929329\n",
      "2014-01-02  4.656849 -4.723311 -3.939703\n",
      "2014-01-03  4.646542 -4.708400 -3.949622\n",
      "2014-01-06  4.636785 -4.694432 -3.959107\n",
      "2014-01-07  4.627550 -4.681349 -3.968176\n",
      "2014-01-08  4.618807 -4.669093 -3.976848\n",
      "\n",
      "Calendar 6 months 2013-12-24 00:00:00\n",
      "                   b0        b1        b2\n",
      "Date                                    \n",
      "2013-12-24  4.599266 -4.669813 -3.862370\n",
      "2013-12-26  4.590529 -4.655927 -3.873521\n",
      "2013-12-27  4.582297 -4.643004 -3.884208\n",
      "2013-12-30  4.574541 -4.630977 -3.894450\n",
      "2013-12-31  4.567233 -4.619785 -3.904265\n",
      "2014-01-02  4.560347 -4.609370 -3.913672\n",
      "\n",
      "Calendar 6 months 2013-12-27 00:00:00\n",
      "                   b0        b1        b2\n",
      "Date                                    \n",
      "2013-12-27  4.673005 -4.758682 -3.816216\n",
      "2013-12-30  4.661204 -4.741096 -3.831050\n",
      "2013-12-31  4.650072 -4.724643 -3.845236\n",
      "2014-01-02  4.639570 -4.709251 -3.858803\n",
      "2014-01-03  4.629664 -4.694850 -3.871778\n",
      "2014-01-06  4.620318 -4.681378 -3.884188\n",
      "\n",
      "Calendar 6 months 2014-01-02 00:00:00\n",
      "                   b0        b1        b2\n",
      "Date                                    \n",
      "2014-01-02  4.742673 -4.821457 -3.975732\n",
      "2014-01-03  4.730231 -4.803528 -3.984426\n",
      "2014-01-06  4.718357 -4.786588 -3.992734\n",
      "2014-01-07  4.707026 -4.770581 -4.000674\n",
      "2014-01-08  4.696213 -4.755457 -4.008263\n",
      "2014-01-09  4.685894 -4.741166 -4.015515\n",
      "\n",
      "Calendar 6 months 2013-12-30 00:00:00\n",
      "                   b0        b1        b2\n",
      "Date                                    \n",
      "2013-12-30  4.709720 -4.796064 -3.907372\n",
      "2013-12-31  4.697360 -4.778593 -3.920269\n",
      "2014-01-02  4.685628 -4.762111 -3.932573\n",
      "2014-01-03  4.674494 -4.746560 -3.944313\n",
      "2014-01-06  4.663926 -4.731889 -3.955513\n",
      "2014-01-07  4.653897 -4.718048 -3.966198\n"
     ]
    },
    {
     "data": {
      "text/plain": [
       "[None, None, None, None, None]"
      ]
     },
     "execution_count": 25,
     "metadata": {},
     "output_type": "execute_result"
    }
   ],
   "source": [
    "[print('\\n 180 data points '+str(RMSE_High2low_Top5.index[i])+'\\n',Predicted_beta_5d_rw[i]) for i in range(0,5)]\n",
    "[print('\\nCalendar 6 months '+str(RMSE_High2low_Top5.index[i])+'\\n', Predicted_beta_5d_rw_c[i]) for i in range(0,5)]"
   ]
  },
  {
   "cell_type": "markdown",
   "metadata": {},
   "source": [
    "### Yeild Curve Predicted Betas using Random Walk Vs Predicted Betas of AR1"
   ]
  },
  {
   "cell_type": "code",
   "execution_count": 26,
   "metadata": {},
   "outputs": [
    {
     "name": "stderr",
     "output_type": "stream",
     "text": [
      "C:\\Users\\manaj\\Anaconda3\\lib\\site-packages\\ipykernel_launcher.py:26: FutureWarning: reshape is deprecated and will raise in a subsequent release. Please use .values.reshape(...) instead\n"
     ]
    },
    {
     "data": {
      "image/png": "[encoded data removed]",
      "text/plain": [
       "<matplotlib.figure.Figure at 0x1a514041e48>"
      ]
     },
     "metadata": {},
     "output_type": "display_data"
    }
   ],
   "source": [
    "#ns_pltcurve('2013-12-30', ns_parameters, optimal_lambda, maturity, df, 'Optimal Betas')\n",
    "ns_pltcurve('2013-12-30', Predicted_beta_5d_c[4], optimal_lambda, maturity, df, 'Predicted Betas AR1')\n",
    "ns_pltcurve('2013-12-30', Predicted_beta_5d_rw_c[4], optimal_lambda, maturity, df, 'Predicted Betas Random Walk')\n",
    "plt.show()"
   ]
  },
  {
   "cell_type": "markdown",
   "metadata": {},
   "source": [
    "##### As seen from the above graphs  and the half-life for b0, b1, b2, it is clear that stationarity of these parameters is highly dependend on the selection of the small patch of 180 data points or 126 data points. The blue, red and red graphs correspond to 180 days and 126 days respectively. Overall time series of betas is clearly not stationary. And same is the result of AR1 model fitting, as slope coefficients of AR1 models are in the range of 0.95 to 0.99 i.e. approximately equal to 1 i.e. AR1 model with slope coefficient euqal to 1 becomes the Random walk model. This is proved in the graph above for NS with AR1 predicted parameters and NS with Random walk parameters alomst coinsides with each other. So, becasuse of non -staionarity of $\\beta$s use of AR1 model does not provide any good forecasts provided by Random walk model."
   ]
  },
  {
   "cell_type": "markdown",
   "metadata": {},
   "source": [
    "### Problem 3. Fit PCA model to CMT returns using the same sample 2012-2015. Compare the in-sample explana- tory power of first 3PCAs vs $\\beta_1(t); \\beta_2(t); \\beta3(t)$ of the DNS model. Be creative."
   ]
  },
  {
   "cell_type": "markdown",
   "metadata": {},
   "source": [
    "### Function to calculate PCA factors:"
   ]
  },
  {
   "cell_type": "code",
   "execution_count": 27,
   "metadata": {
    "collapsed": true
   },
   "outputs": [],
   "source": [
    "def PCA_manual(df):    \n",
    "    c = df.cov()     \n",
    "    val, vec = np.linalg.eig(c)\n",
    "    decor = np.argsort(val)[::-1]\n",
    "    val, vec = val[decor], vec[:, decor]\n",
    "    tr = sum(val)\n",
    "    var_ratio_custom = np.cumsum(np.round(val/tr, decimals=4))\n",
    "    return val, vec, var_ratio_custom"
   ]
  },
  {
   "cell_type": "markdown",
   "metadata": {},
   "source": [
    "### PCA Parameters or factor loading done on demean difference data"
   ]
  },
  {
   "cell_type": "code",
   "execution_count": 28,
   "metadata": {},
   "outputs": [
    {
     "name": "stdout",
     "output_type": "stream",
     "text": [
      "PCA loadings(Manual):\n",
      " [[ 0.01233575 -0.03522316  0.5065613   0.4125768  -0.5024806  -0.2025303\n",
      "   0.52466547 -0.04107038  0.03000406  0.02042161]\n",
      " [ 0.0169508  -0.07160778  0.57523594  0.32227626  0.01561248  0.33484134\n",
      "  -0.66614062  0.00404152 -0.06078403  0.00312896]\n",
      " [ 0.0442175  -0.13545912  0.43095561 -0.03019416  0.81650218 -0.11607148\n",
      "   0.32802441 -0.03334741  0.06398162  0.01034941]\n",
      " [ 0.16300775 -0.41801319  0.26316157 -0.6630375  -0.245483    0.44210009\n",
      "   0.17481243  0.04476764 -0.02601005  0.02943248]\n",
      " [ 0.25360006 -0.5017714   0.0326546  -0.1071609  -0.07930413 -0.70113139\n",
      "  -0.31256688  0.26828752 -0.03403518  0.05151387]\n",
      " [ 0.38588999 -0.37678877 -0.21483626  0.22206667  0.01179512  0.07833637\n",
      "  -0.0170517  -0.67972769  0.25756184 -0.2805648 ]\n",
      " [ 0.44680445 -0.14606942 -0.23716024  0.32903336  0.09477881  0.24796213\n",
      "   0.14867086  0.15146573 -0.40222547  0.58070914]\n",
      " [ 0.43904734  0.1044392  -0.06036315  0.15343987  0.04005756  0.17246051\n",
      "   0.10486528  0.56332302  0.05742217 -0.63731334]\n",
      " [ 0.43633856  0.39393714  0.10636891 -0.13896641 -0.04627548 -0.04144526\n",
      "  -0.08817122  0.0418957   0.6764273   0.39096514]\n",
      " [ 0.41835581  0.46837255  0.19773349 -0.27105814 -0.03427056 -0.21741737\n",
      "  -0.06293397 -0.34517071 -0.5481805  -0.14485982]]\n"
     ]
    }
   ],
   "source": [
    "df1 = df.diff(periods=1).dropna()\n",
    "norm = df1 -df1.mean()\n",
    "print('PCA loadings(Manual):\\n',PCA_manual(norm)[1])"
   ]
  },
  {
   "cell_type": "markdown",
   "metadata": {},
   "source": [
    "### Example to illustrate the move in yield curve between $30^{th}$ and $31^{st}$ Dec. 2013  explained by PCA $1^{st}$ 3 factors and DNS model "
   ]
  },
  {
   "cell_type": "code",
   "execution_count": 29,
   "metadata": {
    "collapsed": true
   },
   "outputs": [],
   "source": [
    "move = df.loc['2013-12-31']-data.loc['2013-12-30']\n",
    "pca1 = (move-df1.mean())@PCA_manual(norm)[1][:,0]*PCA_manual(norm)[1][:,0].T+df1.mean()\n",
    "pca2 = (move-df1.mean())@PCA_manual(norm)[1][:,1]*PCA_manual(norm)[1][:,1].T+pca1\n",
    "pca3 = (move-df1.mean())@PCA_manual(norm)[1][:,2]*PCA_manual(norm)[1][:,2].T+pca2"
   ]
  },
  {
   "cell_type": "code",
   "execution_count": 30,
   "metadata": {},
   "outputs": [
    {
     "name": "stderr",
     "output_type": "stream",
     "text": [
      "C:\\Users\\manaj\\Anaconda3\\lib\\site-packages\\ipykernel_launcher.py:64: FutureWarning: reshape is deprecated and will raise in a subsequent release. Please use .values.reshape(...) instead\n"
     ]
    }
   ],
   "source": [
    "move_ns = ns_curve('2013-12-31', ns_parameters, optimal_lambda, maturity, df) - ns_curve('2013-12-30', ns_parameters, optimal_lambda, maturity, df)\n"
   ]
  },
  {
   "cell_type": "markdown",
   "metadata": {},
   "source": [
    "### Plot of Actual Yeild Curve Difference Vs Explianed by 1st 3 Factors of PCA and DNS model "
   ]
  },
  {
   "cell_type": "code",
   "execution_count": 31,
   "metadata": {},
   "outputs": [
    {
     "data": {
      "image/png": "[encoded data removed]",
      "text/plain": [
       "<matplotlib.figure.Figure at 0x1a51494a550>"
      ]
     },
     "metadata": {},
     "output_type": "display_data"
    }
   ],
   "source": [
    "plt.plot(maturity, pca3, label = '1st three PCA factors difference explained')\n",
    "plt.plot(maturity, move, label = 'Actual difference')\n",
    "plt.plot(maturity,move_ns, label = 'Move Explianed by DNS')\n",
    "plt.legend()\n",
    "plt.title('DNS Vs PCA')\n",
    "plt.show()"
   ]
  },
  {
   "cell_type": "markdown",
   "metadata": {},
   "source": [
    "### RMSE calculation for move in Yield Curve for 30th and 31st Dec 2013"
   ]
  },
  {
   "cell_type": "code",
   "execution_count": 32,
   "metadata": {},
   "outputs": [
    {
     "data": {
      "text/plain": [
       "0.005257225936061775"
      ]
     },
     "execution_count": 32,
     "metadata": {},
     "output_type": "execute_result"
    }
   ],
   "source": [
    "#PCA RMSE Calculation\n",
    "pca_model_mse = mean_squared_error(move,pca3)\n",
    "pca_rmse = math.sqrt(pca_model_mse)\n",
    "pca_rmse"
   ]
  },
  {
   "cell_type": "code",
   "execution_count": 33,
   "metadata": {},
   "outputs": [
    {
     "data": {
      "text/plain": [
       "0.008656691554320363"
      ]
     },
     "execution_count": 33,
     "metadata": {},
     "output_type": "execute_result"
    }
   ],
   "source": [
    "#DNS RMSE calculation\n",
    "DNS_model_mse = mean_squared_error(move,move_ns)\n",
    "DNS_rmse = math.sqrt(DNS_model_mse)\n",
    "DNS_rmse"
   ]
  },
  {
   "cell_type": "markdown",
   "metadata": {},
   "source": [
    "### Avg RMSE using PCA and DNS"
   ]
  },
  {
   "cell_type": "code",
   "execution_count": 34,
   "metadata": {
    "scrolled": true
   },
   "outputs": [
    {
     "data": {
      "text/html": [
       "<div>\n",
       "<style>\n",
       "    .dataframe thead tr:only-child th {\n",
       "        text-align: right;\n",
       "    }\n",
       "\n",
       "    .dataframe thead th {\n",
       "        text-align: left;\n",
       "    }\n",
       "\n",
       "    .dataframe tbody tr th {\n",
       "        vertical-align: top;\n",
       "    }\n",
       "</style>\n",
       "<table border=\"1\" class=\"dataframe\">\n",
       "  <thead>\n",
       "    <tr style=\"text-align: right;\">\n",
       "      <th></th>\n",
       "      <th>3 MO</th>\n",
       "      <th>6 MO</th>\n",
       "      <th>1 YR</th>\n",
       "      <th>2 YR</th>\n",
       "      <th>3 YR</th>\n",
       "      <th>5 YR</th>\n",
       "      <th>7 YR</th>\n",
       "      <th>10 YR</th>\n",
       "      <th>20 YR</th>\n",
       "      <th>30 YR</th>\n",
       "    </tr>\n",
       "    <tr>\n",
       "      <th>Date</th>\n",
       "      <th></th>\n",
       "      <th></th>\n",
       "      <th></th>\n",
       "      <th></th>\n",
       "      <th></th>\n",
       "      <th></th>\n",
       "      <th></th>\n",
       "      <th></th>\n",
       "      <th></th>\n",
       "      <th></th>\n",
       "    </tr>\n",
       "  </thead>\n",
       "  <tbody>\n",
       "    <tr>\n",
       "      <th>2012-01-04</th>\n",
       "      <td>0.000067</td>\n",
       "      <td>-0.001038</td>\n",
       "      <td>-0.002814</td>\n",
       "      <td>-0.010067</td>\n",
       "      <td>-0.009414</td>\n",
       "      <td>0.003616</td>\n",
       "      <td>0.018109</td>\n",
       "      <td>0.029911</td>\n",
       "      <td>0.043968</td>\n",
       "      <td>0.046813</td>\n",
       "    </tr>\n",
       "    <tr>\n",
       "      <th>2012-01-05</th>\n",
       "      <td>0.007929</td>\n",
       "      <td>0.008571</td>\n",
       "      <td>0.005582</td>\n",
       "      <td>-0.000198</td>\n",
       "      <td>-0.003031</td>\n",
       "      <td>0.000326</td>\n",
       "      <td>0.007576</td>\n",
       "      <td>0.016168</td>\n",
       "      <td>0.025824</td>\n",
       "      <td>0.028647</td>\n",
       "    </tr>\n",
       "    <tr>\n",
       "      <th>2012-01-06</th>\n",
       "      <td>-0.005896</td>\n",
       "      <td>-0.006113</td>\n",
       "      <td>-0.005411</td>\n",
       "      <td>-0.007626</td>\n",
       "      <td>-0.010486</td>\n",
       "      <td>-0.020092</td>\n",
       "      <td>-0.028665</td>\n",
       "      <td>-0.034699</td>\n",
       "      <td>-0.041593</td>\n",
       "      <td>-0.042468</td>\n",
       "    </tr>\n",
       "    <tr>\n",
       "      <th>2012-01-09</th>\n",
       "      <td>-0.002194</td>\n",
       "      <td>-0.002705</td>\n",
       "      <td>-0.003395</td>\n",
       "      <td>-0.008161</td>\n",
       "      <td>-0.009682</td>\n",
       "      <td>-0.008935</td>\n",
       "      <td>-0.006628</td>\n",
       "      <td>-0.003963</td>\n",
       "      <td>-0.000705</td>\n",
       "      <td>0.000314</td>\n",
       "    </tr>\n",
       "    <tr>\n",
       "      <th>2012-01-10</th>\n",
       "      <td>-0.002372</td>\n",
       "      <td>-0.003070</td>\n",
       "      <td>-0.003109</td>\n",
       "      <td>-0.005412</td>\n",
       "      <td>-0.003803</td>\n",
       "      <td>0.003662</td>\n",
       "      <td>0.010543</td>\n",
       "      <td>0.015001</td>\n",
       "      <td>0.020616</td>\n",
       "      <td>0.021497</td>\n",
       "    </tr>\n",
       "  </tbody>\n",
       "</table>\n",
       "</div>"
      ],
      "text/plain": [
       "                3 MO      6 MO      1 YR      2 YR      3 YR      5 YR  \\\n",
       "Date                                                                     \n",
       "2012-01-04  0.000067 -0.001038 -0.002814 -0.010067 -0.009414  0.003616   \n",
       "2012-01-05  0.007929  0.008571  0.005582 -0.000198 -0.003031  0.000326   \n",
       "2012-01-06 -0.005896 -0.006113 -0.005411 -0.007626 -0.010486 -0.020092   \n",
       "2012-01-09 -0.002194 -0.002705 -0.003395 -0.008161 -0.009682 -0.008935   \n",
       "2012-01-10 -0.002372 -0.003070 -0.003109 -0.005412 -0.003803  0.003662   \n",
       "\n",
       "                7 YR     10 YR     20 YR     30 YR  \n",
       "Date                                                \n",
       "2012-01-04  0.018109  0.029911  0.043968  0.046813  \n",
       "2012-01-05  0.007576  0.016168  0.025824  0.028647  \n",
       "2012-01-06 -0.028665 -0.034699 -0.041593 -0.042468  \n",
       "2012-01-09 -0.006628 -0.003963 -0.000705  0.000314  \n",
       "2012-01-10  0.010543  0.015001  0.020616  0.021497  "
      ]
     },
     "execution_count": 34,
     "metadata": {},
     "output_type": "execute_result"
    }
   ],
   "source": [
    "# PCA move explianation calculation for all difference data\n",
    "m1_1 = np.matrix(PCA_manual(norm)[1][:,0]).T\n",
    "m1_2 = np.matrix(PCA_manual(norm)[1][:,1]).T\n",
    "m1_3 = np.matrix(PCA_manual(norm)[1][:,2]).T\n",
    "m2 = np.matrix(df1-df1.mean())\n",
    "\n",
    "pca1_df = m2*m1_1*m1_1.T\n",
    "pca2_df = m2*m1_2*m1_2.T\n",
    "pca3_df = m2*m1_3*m1_3.T\n",
    "pca_df =pd.DataFrame(pca1_df + pca2_df + pca3_df, columns=df.columns) + df1.mean()\n",
    "pca_df.index = df1.index\n",
    "pca_df.head()"
   ]
  },
  {
   "cell_type": "markdown",
   "metadata": {},
   "source": [
    "### AVG RMSE for PCA "
   ]
  },
  {
   "cell_type": "code",
   "execution_count": 35,
   "metadata": {},
   "outputs": [
    {
     "data": {
      "text/plain": [
       "0.02238336837538237"
      ]
     },
     "execution_count": 35,
     "metadata": {},
     "output_type": "execute_result"
    }
   ],
   "source": [
    "se_df1 = (pca_df - df1)**2\n",
    "mse_df1 = se_df1.sum(axis = 1)\n",
    "PCA_AVG_RMSE = (mse_df1.mean())**0.5\n",
    "PCA_AVG_RMSE"
   ]
  },
  {
   "cell_type": "code",
   "execution_count": 36,
   "metadata": {},
   "outputs": [
    {
     "name": "stderr",
     "output_type": "stream",
     "text": [
      "C:\\Users\\manaj\\Anaconda3\\lib\\site-packages\\ipykernel_launcher.py:64: FutureWarning: reshape is deprecated and will raise in a subsequent release. Please use .values.reshape(...) instead\n"
     ]
    }
   ],
   "source": [
    "# DNS move explianation calculation for all difference data\n",
    "curves_data = []\n",
    "for i in range(len(df.index)):\n",
    "    date= df.index[i].date()\n",
    "    curves_data.append(ns_curve(date, ns_parameters, optimal_lambda, maturity, df))"
   ]
  },
  {
   "cell_type": "code",
   "execution_count": 37,
   "metadata": {},
   "outputs": [
    {
     "data": {
      "text/html": [
       "<div>\n",
       "<style>\n",
       "    .dataframe thead tr:only-child th {\n",
       "        text-align: right;\n",
       "    }\n",
       "\n",
       "    .dataframe thead th {\n",
       "        text-align: left;\n",
       "    }\n",
       "\n",
       "    .dataframe tbody tr th {\n",
       "        vertical-align: top;\n",
       "    }\n",
       "</style>\n",
       "<table border=\"1\" class=\"dataframe\">\n",
       "  <thead>\n",
       "    <tr style=\"text-align: right;\">\n",
       "      <th></th>\n",
       "      <th>3 MO</th>\n",
       "      <th>6 MO</th>\n",
       "      <th>1 YR</th>\n",
       "      <th>2 YR</th>\n",
       "      <th>3 YR</th>\n",
       "      <th>5 YR</th>\n",
       "      <th>7 YR</th>\n",
       "      <th>10 YR</th>\n",
       "      <th>20 YR</th>\n",
       "      <th>30 YR</th>\n",
       "    </tr>\n",
       "    <tr>\n",
       "      <th>Date</th>\n",
       "      <th></th>\n",
       "      <th></th>\n",
       "      <th></th>\n",
       "      <th></th>\n",
       "      <th></th>\n",
       "      <th></th>\n",
       "      <th></th>\n",
       "      <th></th>\n",
       "      <th></th>\n",
       "      <th></th>\n",
       "    </tr>\n",
       "  </thead>\n",
       "  <tbody>\n",
       "    <tr>\n",
       "      <th>2012-01-04</th>\n",
       "      <td>0.000658</td>\n",
       "      <td>-0.001858</td>\n",
       "      <td>-0.005176</td>\n",
       "      <td>-0.006913</td>\n",
       "      <td>-0.004755</td>\n",
       "      <td>0.004089</td>\n",
       "      <td>0.013671</td>\n",
       "      <td>0.025302</td>\n",
       "      <td>0.044069</td>\n",
       "      <td>0.050914</td>\n",
       "    </tr>\n",
       "    <tr>\n",
       "      <th>2012-01-05</th>\n",
       "      <td>0.006158</td>\n",
       "      <td>0.003978</td>\n",
       "      <td>0.000857</td>\n",
       "      <td>-0.001795</td>\n",
       "      <td>-0.001513</td>\n",
       "      <td>0.002763</td>\n",
       "      <td>0.008118</td>\n",
       "      <td>0.014925</td>\n",
       "      <td>0.026187</td>\n",
       "      <td>0.030322</td>\n",
       "    </tr>\n",
       "    <tr>\n",
       "      <th>2012-01-06</th>\n",
       "      <td>-0.004072</td>\n",
       "      <td>-0.004549</td>\n",
       "      <td>-0.005816</td>\n",
       "      <td>-0.009116</td>\n",
       "      <td>-0.012818</td>\n",
       "      <td>-0.019905</td>\n",
       "      <td>-0.025714</td>\n",
       "      <td>-0.031972</td>\n",
       "      <td>-0.041345</td>\n",
       "      <td>-0.044695</td>\n",
       "    </tr>\n",
       "    <tr>\n",
       "      <th>2012-01-09</th>\n",
       "      <td>-0.003855</td>\n",
       "      <td>-0.004851</td>\n",
       "      <td>-0.006362</td>\n",
       "      <td>-0.007975</td>\n",
       "      <td>-0.008402</td>\n",
       "      <td>-0.007633</td>\n",
       "      <td>-0.006218</td>\n",
       "      <td>-0.004252</td>\n",
       "      <td>-0.000856</td>\n",
       "      <td>0.000404</td>\n",
       "    </tr>\n",
       "    <tr>\n",
       "      <th>2012-01-10</th>\n",
       "      <td>0.001722</td>\n",
       "      <td>0.000456</td>\n",
       "      <td>-0.001263</td>\n",
       "      <td>-0.002370</td>\n",
       "      <td>-0.001609</td>\n",
       "      <td>0.002147</td>\n",
       "      <td>0.006365</td>\n",
       "      <td>0.011547</td>\n",
       "      <td>0.019965</td>\n",
       "      <td>0.023041</td>\n",
       "    </tr>\n",
       "  </tbody>\n",
       "</table>\n",
       "</div>"
      ],
      "text/plain": [
       "                3 MO      6 MO      1 YR      2 YR      3 YR      5 YR  \\\n",
       "Date                                                                     \n",
       "2012-01-04  0.000658 -0.001858 -0.005176 -0.006913 -0.004755  0.004089   \n",
       "2012-01-05  0.006158  0.003978  0.000857 -0.001795 -0.001513  0.002763   \n",
       "2012-01-06 -0.004072 -0.004549 -0.005816 -0.009116 -0.012818 -0.019905   \n",
       "2012-01-09 -0.003855 -0.004851 -0.006362 -0.007975 -0.008402 -0.007633   \n",
       "2012-01-10  0.001722  0.000456 -0.001263 -0.002370 -0.001609  0.002147   \n",
       "\n",
       "                7 YR     10 YR     20 YR     30 YR  \n",
       "Date                                                \n",
       "2012-01-04  0.013671  0.025302  0.044069  0.050914  \n",
       "2012-01-05  0.008118  0.014925  0.026187  0.030322  \n",
       "2012-01-06 -0.025714 -0.031972 -0.041345 -0.044695  \n",
       "2012-01-09 -0.006218 -0.004252 -0.000856  0.000404  \n",
       "2012-01-10  0.006365  0.011547  0.019965  0.023041  "
      ]
     },
     "execution_count": 37,
     "metadata": {},
     "output_type": "execute_result"
    }
   ],
   "source": [
    "NS_curves_data = pd.DataFrame(curves_data, columns=df.columns)\n",
    "NS_curves_data.index = df.index\n",
    "NS_curves_diff = NS_curves_data.diff(periods=1).dropna()\n",
    "NS_curves_diff.head()"
   ]
  },
  {
   "cell_type": "markdown",
   "metadata": {},
   "source": [
    "### AVG RMSE for DNS"
   ]
  },
  {
   "cell_type": "code",
   "execution_count": 38,
   "metadata": {},
   "outputs": [
    {
     "data": {
      "text/plain": [
       "0.025544743230745938"
      ]
     },
     "execution_count": 38,
     "metadata": {},
     "output_type": "execute_result"
    }
   ],
   "source": [
    "se_NS = (NS_curves_diff - df1)**2\n",
    "mse_NS = se_NS.sum(axis = 1)\n",
    "NS_AVG_RMSE = (mse_NS.mean())**0.5\n",
    "NS_AVG_RMSE"
   ]
  },
  {
   "cell_type": "markdown",
   "metadata": {},
   "source": [
    "##### From one sample example and AVG RMSE it seems that PCA does slightly better job of explaining change in on any given day."
   ]
  },
  {
   "cell_type": "code",
   "execution_count": null,
   "metadata": {
    "collapsed": true
   },
   "outputs": [],
   "source": []
  }
 ],
 "metadata": {
  "kernelspec": {
   "display_name": "Python 3",
   "language": "python",
   "name": "python3"
  },
  "language_info": {
   "codemirror_mode": {
    "name": "ipython",
    "version": 3
   },
   "file_extension": ".py",
   "mimetype": "text/x-python",
   "name": "python",
   "nbconvert_exporter": "python",
   "pygments_lexer": "ipython3",
   "version": "3.6.3"
  }
 },
 "nbformat": 4,
 "nbformat_minor": 2
}
