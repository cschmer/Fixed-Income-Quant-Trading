{
 "cells": [
  {
   "cell_type": "code",
   "execution_count": 19,
   "metadata": {
    "collapsed": true
   },
   "outputs": [],
   "source": [
    "import pandas as pd\n",
    "#import numpy as np\n",
    "import matplotlib.pyplot as plt\n",
    "from matplotlib import style\n",
    "style.use('classic')\n",
    "import quandl"
   ]
  },
  {
   "cell_type": "code",
   "execution_count": 20,
   "metadata": {
    "collapsed": true,
    "scrolled": true
   },
   "outputs": [],
   "source": [
    "data = quandl.get(\"USTREASURY/YIELD\", authtoken=\"\") # Please copy paste yout authtoken for Quandl to run code\n",
    "#data is data from 1990 to 2018\n",
    "\n",
    "df = data.loc['1998-1-1':'2016-12-31']\n",
    "#df is data from 1998-1-1 to 2016-12-31\n",
    "\n",
    "rates = df.drop('1 MO', 1)\n",
    "#rates is df after dropping 1 month rate column\n",
    "\n",
    "rates_corr = rates.corr()\n",
    "#level data correlation \n",
    "\n",
    "rates_std = rates.std()\n",
    "#level data standard deviation \n",
    "\n",
    "difference = rates-rates.shift()\n",
    "#difference is difference between respectives rates of consecutive days\n",
    "\n",
    "diff = difference.dropna()\n",
    "diff_corr = difference.corr()\n",
    "#Differebce data correlation\n",
    "\n",
    "\n",
    "diff_std = diff.std()\n",
    "#Difference data standard deviation \n"
   ]
  },
  {
   "cell_type": "markdown",
   "metadata": {},
   "source": [
    "#### Level Data"
   ]
  },
  {
   "cell_type": "code",
   "execution_count": 8,
   "metadata": {},
   "outputs": [
    {
     "data": {
      "text/plain": [
       "(            3 MO  6 MO  1 YR  2 YR  3 YR  5 YR  7 YR  10 YR  20 YR  30 YR\n",
       " Date                                                                     \n",
       " 1998-01-02  5.32  5.40  5.46  5.59  5.62  5.63  5.68   5.67   5.94   5.86\n",
       " 1998-01-05  5.23  5.32  5.35  5.47  5.47  5.46  5.52   5.52   5.82   5.74\n",
       " 1998-01-06  5.22  5.30  5.30  5.39  5.42  5.41  5.49   5.49   5.80   5.73\n",
       " 1998-01-07  5.23  5.30  5.31  5.42  5.45  5.45  5.55   5.55   5.88   5.80\n",
       " 1998-01-08  5.13  5.20  5.20  5.31  5.33  5.34  5.46   5.49   5.82   5.75,\n",
       "             3 MO  6 MO  1 YR  2 YR  3 YR  5 YR  7 YR  10 YR  20 YR  30 YR\n",
       " Date                                                                     \n",
       " 2016-12-23  0.52  0.65  0.87  1.22  1.54  2.04  2.35   2.55   2.86   3.12\n",
       " 2016-12-27  0.51  0.66  0.89  1.28  1.58  2.07  2.37   2.57   2.88   3.14\n",
       " 2016-12-28  0.53  0.62  0.90  1.26  1.55  2.02  2.32   2.51   2.83   3.09\n",
       " 2016-12-29  0.47  0.62  0.85  1.22  1.49  1.96  2.30   2.49   2.82   3.08\n",
       " 2016-12-30  0.51  0.62  0.85  1.20  1.47  1.93  2.25   2.45   2.79   3.06)"
      ]
     },
     "execution_count": 8,
     "metadata": {},
     "output_type": "execute_result"
    }
   ],
   "source": [
    "rates.head(), rates.tail()"
   ]
  },
  {
   "cell_type": "markdown",
   "metadata": {},
   "source": [
    "#### Difference Data"
   ]
  },
  {
   "cell_type": "code",
   "execution_count": 9,
   "metadata": {},
   "outputs": [
    {
     "data": {
      "text/plain": [
       "(            3 MO  6 MO  1 YR  2 YR  3 YR  5 YR  7 YR  10 YR  20 YR  30 YR\n",
       " Date                                                                     \n",
       " 1998-01-05 -0.09 -0.08 -0.11 -0.12 -0.15 -0.17 -0.16  -0.15  -0.12  -0.12\n",
       " 1998-01-06 -0.01 -0.02 -0.05 -0.08 -0.05 -0.05 -0.03  -0.03  -0.02  -0.01\n",
       " 1998-01-07  0.01  0.00  0.01  0.03  0.03  0.04  0.06   0.06   0.08   0.07\n",
       " 1998-01-08 -0.10 -0.10 -0.11 -0.11 -0.12 -0.11 -0.09  -0.06  -0.06  -0.05\n",
       " 1998-01-09 -0.08 -0.09 -0.12 -0.14 -0.13 -0.12 -0.09  -0.09  -0.05  -0.04,\n",
       "             3 MO  6 MO  1 YR  2 YR  3 YR  5 YR  7 YR  10 YR  20 YR  30 YR\n",
       " Date                                                                     \n",
       " 2016-12-23  0.01  0.00  0.00  0.00  0.00  0.00 -0.01   0.00   0.00   0.00\n",
       " 2016-12-27 -0.01  0.01  0.02  0.06  0.04  0.03  0.02   0.02   0.02   0.02\n",
       " 2016-12-28  0.02 -0.04  0.01 -0.02 -0.03 -0.05 -0.05  -0.06  -0.05  -0.05\n",
       " 2016-12-29 -0.06  0.00 -0.05 -0.04 -0.06 -0.06 -0.02  -0.02  -0.01  -0.01\n",
       " 2016-12-30  0.04  0.00  0.00 -0.02 -0.02 -0.03 -0.05  -0.04  -0.03  -0.02)"
      ]
     },
     "execution_count": 9,
     "metadata": {},
     "output_type": "execute_result"
    }
   ],
   "source": [
    "diff.head(), diff.tail()"
   ]
  },
  {
   "cell_type": "markdown",
   "metadata": {},
   "source": [
    "#### Level Data Correlations "
   ]
  },
  {
   "cell_type": "code",
   "execution_count": 10,
   "metadata": {},
   "outputs": [
    {
     "data": {
      "text/html": [
       "<div>\n",
       "<style>\n",
       "    .dataframe thead tr:only-child th {\n",
       "        text-align: right;\n",
       "    }\n",
       "\n",
       "    .dataframe thead th {\n",
       "        text-align: left;\n",
       "    }\n",
       "\n",
       "    .dataframe tbody tr th {\n",
       "        vertical-align: top;\n",
       "    }\n",
       "</style>\n",
       "<table border=\"1\" class=\"dataframe\">\n",
       "  <thead>\n",
       "    <tr style=\"text-align: right;\">\n",
       "      <th></th>\n",
       "      <th>3 MO</th>\n",
       "      <th>6 MO</th>\n",
       "      <th>1 YR</th>\n",
       "      <th>2 YR</th>\n",
       "      <th>3 YR</th>\n",
       "      <th>5 YR</th>\n",
       "      <th>7 YR</th>\n",
       "      <th>10 YR</th>\n",
       "      <th>20 YR</th>\n",
       "      <th>30 YR</th>\n",
       "    </tr>\n",
       "  </thead>\n",
       "  <tbody>\n",
       "    <tr>\n",
       "      <th>3 MO</th>\n",
       "      <td>1.000000</td>\n",
       "      <td>0.998474</td>\n",
       "      <td>0.994831</td>\n",
       "      <td>0.981020</td>\n",
       "      <td>0.965991</td>\n",
       "      <td>0.930395</td>\n",
       "      <td>0.897358</td>\n",
       "      <td>0.858808</td>\n",
       "      <td>0.777356</td>\n",
       "      <td>0.836837</td>\n",
       "    </tr>\n",
       "    <tr>\n",
       "      <th>6 MO</th>\n",
       "      <td>0.998474</td>\n",
       "      <td>1.000000</td>\n",
       "      <td>0.998064</td>\n",
       "      <td>0.985813</td>\n",
       "      <td>0.971125</td>\n",
       "      <td>0.935369</td>\n",
       "      <td>0.901603</td>\n",
       "      <td>0.862994</td>\n",
       "      <td>0.779952</td>\n",
       "      <td>0.837599</td>\n",
       "    </tr>\n",
       "    <tr>\n",
       "      <th>1 YR</th>\n",
       "      <td>0.994831</td>\n",
       "      <td>0.998064</td>\n",
       "      <td>1.000000</td>\n",
       "      <td>0.993338</td>\n",
       "      <td>0.981841</td>\n",
       "      <td>0.950010</td>\n",
       "      <td>0.918233</td>\n",
       "      <td>0.880892</td>\n",
       "      <td>0.800086</td>\n",
       "      <td>0.847686</td>\n",
       "    </tr>\n",
       "    <tr>\n",
       "      <th>2 YR</th>\n",
       "      <td>0.981020</td>\n",
       "      <td>0.985813</td>\n",
       "      <td>0.993338</td>\n",
       "      <td>1.000000</td>\n",
       "      <td>0.996518</td>\n",
       "      <td>0.975633</td>\n",
       "      <td>0.950672</td>\n",
       "      <td>0.916565</td>\n",
       "      <td>0.842489</td>\n",
       "      <td>0.874898</td>\n",
       "    </tr>\n",
       "    <tr>\n",
       "      <th>3 YR</th>\n",
       "      <td>0.965991</td>\n",
       "      <td>0.971125</td>\n",
       "      <td>0.981841</td>\n",
       "      <td>0.996518</td>\n",
       "      <td>1.000000</td>\n",
       "      <td>0.989703</td>\n",
       "      <td>0.971020</td>\n",
       "      <td>0.941514</td>\n",
       "      <td>0.874408</td>\n",
       "      <td>0.894447</td>\n",
       "    </tr>\n",
       "    <tr>\n",
       "      <th>5 YR</th>\n",
       "      <td>0.930395</td>\n",
       "      <td>0.935369</td>\n",
       "      <td>0.950010</td>\n",
       "      <td>0.975633</td>\n",
       "      <td>0.989703</td>\n",
       "      <td>1.000000</td>\n",
       "      <td>0.994435</td>\n",
       "      <td>0.977402</td>\n",
       "      <td>0.927013</td>\n",
       "      <td>0.932308</td>\n",
       "    </tr>\n",
       "    <tr>\n",
       "      <th>7 YR</th>\n",
       "      <td>0.897358</td>\n",
       "      <td>0.901603</td>\n",
       "      <td>0.918233</td>\n",
       "      <td>0.950672</td>\n",
       "      <td>0.971020</td>\n",
       "      <td>0.994435</td>\n",
       "      <td>1.000000</td>\n",
       "      <td>0.992506</td>\n",
       "      <td>0.957795</td>\n",
       "      <td>0.958027</td>\n",
       "    </tr>\n",
       "    <tr>\n",
       "      <th>10 YR</th>\n",
       "      <td>0.858808</td>\n",
       "      <td>0.862994</td>\n",
       "      <td>0.880892</td>\n",
       "      <td>0.916565</td>\n",
       "      <td>0.941514</td>\n",
       "      <td>0.977402</td>\n",
       "      <td>0.992506</td>\n",
       "      <td>1.000000</td>\n",
       "      <td>0.982792</td>\n",
       "      <td>0.980511</td>\n",
       "    </tr>\n",
       "    <tr>\n",
       "      <th>20 YR</th>\n",
       "      <td>0.777356</td>\n",
       "      <td>0.779952</td>\n",
       "      <td>0.800086</td>\n",
       "      <td>0.842489</td>\n",
       "      <td>0.874408</td>\n",
       "      <td>0.927013</td>\n",
       "      <td>0.957795</td>\n",
       "      <td>0.982792</td>\n",
       "      <td>1.000000</td>\n",
       "      <td>0.994971</td>\n",
       "    </tr>\n",
       "    <tr>\n",
       "      <th>30 YR</th>\n",
       "      <td>0.836837</td>\n",
       "      <td>0.837599</td>\n",
       "      <td>0.847686</td>\n",
       "      <td>0.874898</td>\n",
       "      <td>0.894447</td>\n",
       "      <td>0.932308</td>\n",
       "      <td>0.958027</td>\n",
       "      <td>0.980511</td>\n",
       "      <td>0.994971</td>\n",
       "      <td>1.000000</td>\n",
       "    </tr>\n",
       "  </tbody>\n",
       "</table>\n",
       "</div>"
      ],
      "text/plain": [
       "           3 MO      6 MO      1 YR      2 YR      3 YR      5 YR      7 YR  \\\n",
       "3 MO   1.000000  0.998474  0.994831  0.981020  0.965991  0.930395  0.897358   \n",
       "6 MO   0.998474  1.000000  0.998064  0.985813  0.971125  0.935369  0.901603   \n",
       "1 YR   0.994831  0.998064  1.000000  0.993338  0.981841  0.950010  0.918233   \n",
       "2 YR   0.981020  0.985813  0.993338  1.000000  0.996518  0.975633  0.950672   \n",
       "3 YR   0.965991  0.971125  0.981841  0.996518  1.000000  0.989703  0.971020   \n",
       "5 YR   0.930395  0.935369  0.950010  0.975633  0.989703  1.000000  0.994435   \n",
       "7 YR   0.897358  0.901603  0.918233  0.950672  0.971020  0.994435  1.000000   \n",
       "10 YR  0.858808  0.862994  0.880892  0.916565  0.941514  0.977402  0.992506   \n",
       "20 YR  0.777356  0.779952  0.800086  0.842489  0.874408  0.927013  0.957795   \n",
       "30 YR  0.836837  0.837599  0.847686  0.874898  0.894447  0.932308  0.958027   \n",
       "\n",
       "          10 YR     20 YR     30 YR  \n",
       "3 MO   0.858808  0.777356  0.836837  \n",
       "6 MO   0.862994  0.779952  0.837599  \n",
       "1 YR   0.880892  0.800086  0.847686  \n",
       "2 YR   0.916565  0.842489  0.874898  \n",
       "3 YR   0.941514  0.874408  0.894447  \n",
       "5 YR   0.977402  0.927013  0.932308  \n",
       "7 YR   0.992506  0.957795  0.958027  \n",
       "10 YR  1.000000  0.982792  0.980511  \n",
       "20 YR  0.982792  1.000000  0.994971  \n",
       "30 YR  0.980511  0.994971  1.000000  "
      ]
     },
     "execution_count": 10,
     "metadata": {},
     "output_type": "execute_result"
    }
   ],
   "source": [
    "rates_corr"
   ]
  },
  {
   "cell_type": "markdown",
   "metadata": {},
   "source": [
    "#### Level Data Standard Deviations"
   ]
  },
  {
   "cell_type": "code",
   "execution_count": 11,
   "metadata": {},
   "outputs": [
    {
     "data": {
      "text/plain": [
       "3 MO     2.100867\n",
       "6 MO     2.125534\n",
       "1 YR     2.072415\n",
       "2 YR     1.997175\n",
       "3 YR     1.881481\n",
       "5 YR     1.660711\n",
       "7 YR     1.517478\n",
       "10 YR    1.327459\n",
       "20 YR    1.262964\n",
       "30 YR    1.141953\n",
       "dtype: float64"
      ]
     },
     "execution_count": 11,
     "metadata": {},
     "output_type": "execute_result"
    }
   ],
   "source": [
    "rates_std"
   ]
  },
  {
   "cell_type": "markdown",
   "metadata": {},
   "source": [
    "#### Difference Data Correlations"
   ]
  },
  {
   "cell_type": "code",
   "execution_count": 12,
   "metadata": {},
   "outputs": [
    {
     "data": {
      "text/html": [
       "<div>\n",
       "<style>\n",
       "    .dataframe thead tr:only-child th {\n",
       "        text-align: right;\n",
       "    }\n",
       "\n",
       "    .dataframe thead th {\n",
       "        text-align: left;\n",
       "    }\n",
       "\n",
       "    .dataframe tbody tr th {\n",
       "        vertical-align: top;\n",
       "    }\n",
       "</style>\n",
       "<table border=\"1\" class=\"dataframe\">\n",
       "  <thead>\n",
       "    <tr style=\"text-align: right;\">\n",
       "      <th></th>\n",
       "      <th>3 MO</th>\n",
       "      <th>6 MO</th>\n",
       "      <th>1 YR</th>\n",
       "      <th>2 YR</th>\n",
       "      <th>3 YR</th>\n",
       "      <th>5 YR</th>\n",
       "      <th>7 YR</th>\n",
       "      <th>10 YR</th>\n",
       "      <th>20 YR</th>\n",
       "      <th>30 YR</th>\n",
       "    </tr>\n",
       "  </thead>\n",
       "  <tbody>\n",
       "    <tr>\n",
       "      <th>3 MO</th>\n",
       "      <td>1.000000</td>\n",
       "      <td>0.767924</td>\n",
       "      <td>0.595913</td>\n",
       "      <td>0.367406</td>\n",
       "      <td>0.329258</td>\n",
       "      <td>0.274595</td>\n",
       "      <td>0.232609</td>\n",
       "      <td>0.205399</td>\n",
       "      <td>0.156089</td>\n",
       "      <td>0.139275</td>\n",
       "    </tr>\n",
       "    <tr>\n",
       "      <th>6 MO</th>\n",
       "      <td>0.767924</td>\n",
       "      <td>1.000000</td>\n",
       "      <td>0.819379</td>\n",
       "      <td>0.576537</td>\n",
       "      <td>0.532570</td>\n",
       "      <td>0.461751</td>\n",
       "      <td>0.405960</td>\n",
       "      <td>0.369569</td>\n",
       "      <td>0.299924</td>\n",
       "      <td>0.257660</td>\n",
       "    </tr>\n",
       "    <tr>\n",
       "      <th>1 YR</th>\n",
       "      <td>0.595913</td>\n",
       "      <td>0.819379</td>\n",
       "      <td>1.000000</td>\n",
       "      <td>0.810688</td>\n",
       "      <td>0.762455</td>\n",
       "      <td>0.683470</td>\n",
       "      <td>0.619508</td>\n",
       "      <td>0.571956</td>\n",
       "      <td>0.482800</td>\n",
       "      <td>0.410481</td>\n",
       "    </tr>\n",
       "    <tr>\n",
       "      <th>2 YR</th>\n",
       "      <td>0.367406</td>\n",
       "      <td>0.576537</td>\n",
       "      <td>0.810688</td>\n",
       "      <td>1.000000</td>\n",
       "      <td>0.951782</td>\n",
       "      <td>0.887329</td>\n",
       "      <td>0.824193</td>\n",
       "      <td>0.769861</td>\n",
       "      <td>0.663146</td>\n",
       "      <td>0.588853</td>\n",
       "    </tr>\n",
       "    <tr>\n",
       "      <th>3 YR</th>\n",
       "      <td>0.329258</td>\n",
       "      <td>0.532570</td>\n",
       "      <td>0.762455</td>\n",
       "      <td>0.951782</td>\n",
       "      <td>1.000000</td>\n",
       "      <td>0.944459</td>\n",
       "      <td>0.893211</td>\n",
       "      <td>0.845373</td>\n",
       "      <td>0.743164</td>\n",
       "      <td>0.677015</td>\n",
       "    </tr>\n",
       "    <tr>\n",
       "      <th>5 YR</th>\n",
       "      <td>0.274595</td>\n",
       "      <td>0.461751</td>\n",
       "      <td>0.683470</td>\n",
       "      <td>0.887329</td>\n",
       "      <td>0.944459</td>\n",
       "      <td>1.000000</td>\n",
       "      <td>0.967854</td>\n",
       "      <td>0.936036</td>\n",
       "      <td>0.852926</td>\n",
       "      <td>0.800074</td>\n",
       "    </tr>\n",
       "    <tr>\n",
       "      <th>7 YR</th>\n",
       "      <td>0.232609</td>\n",
       "      <td>0.405960</td>\n",
       "      <td>0.619508</td>\n",
       "      <td>0.824193</td>\n",
       "      <td>0.893211</td>\n",
       "      <td>0.967854</td>\n",
       "      <td>1.000000</td>\n",
       "      <td>0.971866</td>\n",
       "      <td>0.914262</td>\n",
       "      <td>0.872295</td>\n",
       "    </tr>\n",
       "    <tr>\n",
       "      <th>10 YR</th>\n",
       "      <td>0.205399</td>\n",
       "      <td>0.369569</td>\n",
       "      <td>0.571956</td>\n",
       "      <td>0.769861</td>\n",
       "      <td>0.845373</td>\n",
       "      <td>0.936036</td>\n",
       "      <td>0.971866</td>\n",
       "      <td>1.000000</td>\n",
       "      <td>0.950519</td>\n",
       "      <td>0.921471</td>\n",
       "    </tr>\n",
       "    <tr>\n",
       "      <th>20 YR</th>\n",
       "      <td>0.156089</td>\n",
       "      <td>0.299924</td>\n",
       "      <td>0.482800</td>\n",
       "      <td>0.663146</td>\n",
       "      <td>0.743164</td>\n",
       "      <td>0.852926</td>\n",
       "      <td>0.914262</td>\n",
       "      <td>0.950519</td>\n",
       "      <td>1.000000</td>\n",
       "      <td>0.977000</td>\n",
       "    </tr>\n",
       "    <tr>\n",
       "      <th>30 YR</th>\n",
       "      <td>0.139275</td>\n",
       "      <td>0.257660</td>\n",
       "      <td>0.410481</td>\n",
       "      <td>0.588853</td>\n",
       "      <td>0.677015</td>\n",
       "      <td>0.800074</td>\n",
       "      <td>0.872295</td>\n",
       "      <td>0.921471</td>\n",
       "      <td>0.977000</td>\n",
       "      <td>1.000000</td>\n",
       "    </tr>\n",
       "  </tbody>\n",
       "</table>\n",
       "</div>"
      ],
      "text/plain": [
       "           3 MO      6 MO      1 YR      2 YR      3 YR      5 YR      7 YR  \\\n",
       "3 MO   1.000000  0.767924  0.595913  0.367406  0.329258  0.274595  0.232609   \n",
       "6 MO   0.767924  1.000000  0.819379  0.576537  0.532570  0.461751  0.405960   \n",
       "1 YR   0.595913  0.819379  1.000000  0.810688  0.762455  0.683470  0.619508   \n",
       "2 YR   0.367406  0.576537  0.810688  1.000000  0.951782  0.887329  0.824193   \n",
       "3 YR   0.329258  0.532570  0.762455  0.951782  1.000000  0.944459  0.893211   \n",
       "5 YR   0.274595  0.461751  0.683470  0.887329  0.944459  1.000000  0.967854   \n",
       "7 YR   0.232609  0.405960  0.619508  0.824193  0.893211  0.967854  1.000000   \n",
       "10 YR  0.205399  0.369569  0.571956  0.769861  0.845373  0.936036  0.971866   \n",
       "20 YR  0.156089  0.299924  0.482800  0.663146  0.743164  0.852926  0.914262   \n",
       "30 YR  0.139275  0.257660  0.410481  0.588853  0.677015  0.800074  0.872295   \n",
       "\n",
       "          10 YR     20 YR     30 YR  \n",
       "3 MO   0.205399  0.156089  0.139275  \n",
       "6 MO   0.369569  0.299924  0.257660  \n",
       "1 YR   0.571956  0.482800  0.410481  \n",
       "2 YR   0.769861  0.663146  0.588853  \n",
       "3 YR   0.845373  0.743164  0.677015  \n",
       "5 YR   0.936036  0.852926  0.800074  \n",
       "7 YR   0.971866  0.914262  0.872295  \n",
       "10 YR  1.000000  0.950519  0.921471  \n",
       "20 YR  0.950519  1.000000  0.977000  \n",
       "30 YR  0.921471  0.977000  1.000000  "
      ]
     },
     "execution_count": 12,
     "metadata": {},
     "output_type": "execute_result"
    }
   ],
   "source": [
    "diff_corr"
   ]
  },
  {
   "cell_type": "markdown",
   "metadata": {},
   "source": [
    "#### Difference Data Standard Deviations "
   ]
  },
  {
   "cell_type": "code",
   "execution_count": 13,
   "metadata": {},
   "outputs": [
    {
     "data": {
      "text/plain": [
       "3 MO     0.056768\n",
       "6 MO     0.044405\n",
       "1 YR     0.042319\n",
       "2 YR     0.052796\n",
       "3 YR     0.056721\n",
       "5 YR     0.061500\n",
       "7 YR     0.062697\n",
       "10 YR    0.059723\n",
       "20 YR    0.056540\n",
       "30 YR    0.054869\n",
       "dtype: float64"
      ]
     },
     "execution_count": 13,
     "metadata": {},
     "output_type": "execute_result"
    }
   ],
   "source": [
    "diff_std"
   ]
  },
  {
   "cell_type": "markdown",
   "metadata": {},
   "source": [
    "#### Volatility Curves"
   ]
  },
  {
   "cell_type": "code",
   "execution_count": 21,
   "metadata": {},
   "outputs": [
    {
     "data": {
      "image/png": "[encoded data removed]",
      "text/plain": [
       "<matplotlib.figure.Figure at 0x1bc566c3cc0>"
      ]
     },
     "metadata": {},
     "output_type": "display_data"
    }
   ],
   "source": [
    "fig, ax = plt.subplots()\n",
    "ax2 = ax.twinx()\n",
    "\n",
    "rates_std.plot(ax=ax, label='Level Data', color ='r')\n",
    "diff_std.plot(ax = ax2, label='Difference Data', color ='b')\n",
    "\n",
    "ax.set_ylabel('Volatility of Level Data')\n",
    "ax2.set_ylabel('Volatility of Difference Data')\n",
    "ax.legend(loc = 4)\n",
    "ax2.legend(loc = 1)\n",
    "plt.title('Volatility Curves')\n",
    "plt.show()"
   ]
  },
  {
   "cell_type": "code",
   "execution_count": null,
   "metadata": {
    "collapsed": true
   },
   "outputs": [],
   "source": []
  }
 ],
 "metadata": {
  "kernelspec": {
   "display_name": "Python 3",
   "language": "python",
   "name": "python3"
  },
  "language_info": {
   "codemirror_mode": {
    "name": "ipython",
    "version": 3
   },
   "file_extension": ".py",
   "mimetype": "text/x-python",
   "name": "python",
   "nbconvert_exporter": "python",
   "pygments_lexer": "ipython3",
   "version": "3.6.3"
  }
 },
 "nbformat": 4,
 "nbformat_minor": 2
}
